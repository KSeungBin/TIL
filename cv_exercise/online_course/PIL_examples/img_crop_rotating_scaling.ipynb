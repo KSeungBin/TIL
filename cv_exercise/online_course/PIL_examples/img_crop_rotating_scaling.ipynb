{
 "cells": [
  {
   "cell_type": "code",
   "execution_count": null,
   "id": "0a0d612e",
   "metadata": {},
   "outputs": [],
   "source": [
    "from PIL import Image\n",
    "import matplotlib.pyplot as plt"
   ]
  },
  {
   "cell_type": "code",
   "execution_count": null,
   "id": "ed8179fb",
   "metadata": {
    "scrolled": true
   },
   "outputs": [],
   "source": [
    "## image read\n",
    "img = Image.open('../data/image.jpeg')\n",
    "\n",
    "## image visualize\n",
    "plt.imshow(img)\n",
    "plt.show()\n",
    "img"
   ]
  },
  {
   "cell_type": "markdown",
   "id": "906ea746",
   "metadata": {},
   "source": [
    "## Image resize"
   ]
  },
  {
   "cell_type": "code",
   "execution_count": null,
   "id": "6f56be8b",
   "metadata": {},
   "outputs": [],
   "source": [
    "w,h = img.size\n",
    "print(w, h)\n",
    "img_resize = img.resize((w//2, h//2)) # plt처럼 인덱스로 resize 할 필요 없어 편리. 소수점 이하는 자동으로 버림\n",
    "plt.imshow(img_resize)\n",
    "plt.show()\n",
    "\n",
    "img_resize = img.resize((w*2, h*2))   # 곱한 값이 반드시 정수(int)여야 함\n",
    "plt.imshow(img_resize)\n",
    "plt.show()\n",
    "\n",
    "## resize options -> \n",
    "# https://pillow.readthedocs.io/en/stable/handbook/concepts.html?highlight=resize#PIL.Image.NEAREST"
   ]
  },
  {
   "cell_type": "markdown",
   "id": "d4295df7",
   "metadata": {},
   "source": [
    "## Image crop"
   ]
  },
  {
   "cell_type": "code",
   "execution_count": null,
   "id": "b0b9c4c7",
   "metadata": {},
   "outputs": [],
   "source": [
    "def two_image_show(im1, im2):\n",
    "    plt.subplot(1,2,1)\n",
    "    plt.imshow(im1)\n",
    "    plt.subplot(1,2,2)    \n",
    "    plt.imshow(im2)\n",
    "    plt.show()\n",
    "    \n",
    "img_crop = img.crop((w//4, h//4, w*3//4, h*3//4)) # (좌상방 pt, 우하방 pt)만 지정해주면 자동으로 crop해준다\n",
    "\n",
    "plt.imshow(img_crop)\n",
    "## (left, upper, right, lower)\n",
    "\n",
    "two_image_show(img, img_crop)"
   ]
  },
  {
   "cell_type": "markdown",
   "id": "cdda27e9",
   "metadata": {},
   "source": [
    "## Image rotate\n",
    "- 반시계방향 회전인지 시계방향 회전인지 반드시 PIL Documentation을 확인해야 함"
   ]
  },
  {
   "cell_type": "code",
   "execution_count": null,
   "id": "1efce9fc",
   "metadata": {},
   "outputs": [],
   "source": [
    "img_rotate = img.rotate(45)   ## degree, NOT radian\n",
    "\n",
    "# img_rotate.show() \n",
    "plt.imshow(img_rotate)"
   ]
  },
  {
   "cell_type": "code",
   "execution_count": null,
   "id": "f98ef4cc",
   "metadata": {},
   "outputs": [],
   "source": [
    "img_flip = img.transpose(Image.FLIP_LEFT_RIGHT)   ## FLIP_TOP_BOTTOM : 상하 대칭\n",
    "\n",
    "two_image_show(img, img_flip)"
   ]
  },
  {
   "cell_type": "code",
   "execution_count": null,
   "id": "fab6466d",
   "metadata": {},
   "outputs": [],
   "source": [
    "# 45도 반시계방향으로 회전시킨 후, 좌우 대칭한 이미지를 저장\n",
    "img_flip_and_rotate = img.rotate(45).transpose(Image.FLIP_LEFT_RIGHT) \n",
    "\n",
    "img_flip_and_rotate.save('save_img.png')"
   ]
  },
  {
   "cell_type": "markdown",
   "id": "cc2a7c17",
   "metadata": {},
   "source": [
    "# 결론\n",
    "\n",
    "이미지 처리 그 자체만으로는 PIL 라이브러리가 훨씬 간단하고 편리하다.\n",
    "\n",
    "하지만, 복잡한 컴퓨터비전 알고리즘의 적용이나, 딥러닝/머신러닝 모델을 개발할 때에는 PIL 의 함수만으로는 수행할 수 없다.  \n",
    "\n",
    "PyTorch, TensorFlow 등이 필요한 이유  \n"
   ]
  },
  {
   "cell_type": "code",
   "execution_count": null,
   "id": "f178a986",
   "metadata": {},
   "outputs": [],
   "source": []
  }
 ],
 "metadata": {
  "kernelspec": {
   "display_name": "Python 3 (ipykernel)",
   "language": "python",
   "name": "python3"
  },
  "language_info": {
   "codemirror_mode": {
    "name": "ipython",
    "version": 3
   },
   "file_extension": ".py",
   "mimetype": "text/x-python",
   "name": "python",
   "nbconvert_exporter": "python",
   "pygments_lexer": "ipython3",
   "version": "3.8.13"
  }
 },
 "nbformat": 4,
 "nbformat_minor": 5
}
