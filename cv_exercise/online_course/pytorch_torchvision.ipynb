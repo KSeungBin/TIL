{
 "cells": [
  {
   "cell_type": "code",
   "execution_count": 1,
   "id": "9cd5548d",
   "metadata": {},
   "outputs": [],
   "source": [
    "import torch\n",
    "import numpy as np"
   ]
  },
  {
   "cell_type": "markdown",
   "id": "56cb3a4c",
   "metadata": {},
   "source": [
    "## Tensors"
   ]
  },
  {
   "cell_type": "code",
   "execution_count": 3,
   "id": "badf2947",
   "metadata": {},
   "outputs": [
    {
     "data": {
      "text/plain": [
       "torch.Size([2, 2])"
      ]
     },
     "execution_count": 3,
     "metadata": {},
     "output_type": "execute_result"
    }
   ],
   "source": [
    "data = [[1,2], [3,4]]\n",
    "x_data = torch.tensor(data)\n",
    "x_data.shape"
   ]
  },
  {
   "cell_type": "code",
   "execution_count": 4,
   "id": "96dbfe00",
   "metadata": {},
   "outputs": [],
   "source": [
    "x_scalar = torch.tensor(3.14159)\n",
    "x_empty = torch.tensor([])"
   ]
  },
  {
   "cell_type": "code",
   "execution_count": 5,
   "id": "c3d80b57",
   "metadata": {},
   "outputs": [],
   "source": [
    "# 1. tensor creation from numpy arrays\n",
    "np_array = np.array(data)\n",
    "x_np = torch.from_numpy(np_array)"
   ]
  },
  {
   "cell_type": "code",
   "execution_count": 6,
   "id": "ae085b6a",
   "metadata": {},
   "outputs": [
    {
     "data": {
      "text/plain": [
       "tensor([[0.4707, 0.6988, 0.2527],\n",
       "        [0.4743, 0.1849, 0.3477]])"
      ]
     },
     "execution_count": 6,
     "metadata": {},
     "output_type": "execute_result"
    }
   ],
   "source": [
    "# 2. tensor creation using APIs\n",
    "shape=(2,3)\n",
    "torch.rand(shape)"
   ]
  },
  {
   "cell_type": "code",
   "execution_count": 7,
   "id": "6d4d06d1",
   "metadata": {},
   "outputs": [
    {
     "data": {
      "text/plain": [
       "tensor([[1., 1., 1.],\n",
       "        [1., 1., 1.]])"
      ]
     },
     "execution_count": 7,
     "metadata": {},
     "output_type": "execute_result"
    }
   ],
   "source": [
    "torch.ones(shape)"
   ]
  },
  {
   "cell_type": "code",
   "execution_count": 9,
   "id": "0a99d95f",
   "metadata": {},
   "outputs": [
    {
     "data": {
      "text/plain": [
       "tensor([[0., 0., 0.],\n",
       "        [0., 0., 0.]])"
      ]
     },
     "execution_count": 9,
     "metadata": {},
     "output_type": "execute_result"
    }
   ],
   "source": [
    "torch.zeros(shape)"
   ]
  },
  {
   "cell_type": "code",
   "execution_count": 10,
   "id": "79c7b243",
   "metadata": {},
   "outputs": [
    {
     "data": {
      "text/plain": [
       "tensor([[1, 1],\n",
       "        [1, 1]])"
      ]
     },
     "execution_count": 10,
     "metadata": {},
     "output_type": "execute_result"
    }
   ],
   "source": [
    "# 3. tensor creation from other tensors\n",
    "x_ones = torch.ones_like(x_data)\n",
    "x_ones"
   ]
  },
  {
   "cell_type": "code",
   "execution_count": 11,
   "id": "7e823c9b",
   "metadata": {},
   "outputs": [
    {
     "data": {
      "text/plain": [
       "tensor([[0.2120, 0.0302],\n",
       "        [0.9931, 0.3155]])"
      ]
     },
     "execution_count": 11,
     "metadata": {},
     "output_type": "execute_result"
    }
   ],
   "source": [
    "x_ones = torch.rand_like(x_data, dtype=torch.float)\n",
    "x_ones"
   ]
  },
  {
   "cell_type": "code",
   "execution_count": 12,
   "id": "1345121b",
   "metadata": {},
   "outputs": [
    {
     "name": "stdout",
     "output_type": "stream",
     "text": [
      "torch.Size([3, 4]) torch.float32 cpu\n"
     ]
    }
   ],
   "source": [
    "# Tensor attributes\n",
    "tensor = torch.rand(3,4)\n",
    "print(tensor.shape, tensor.dtype, tensor.device)"
   ]
  },
  {
   "cell_type": "code",
   "execution_count": 13,
   "id": "1c29b3f2",
   "metadata": {},
   "outputs": [
    {
     "ename": "AssertionError",
     "evalue": "Torch not compiled with CUDA enabled",
     "output_type": "error",
     "traceback": [
      "\u001b[1;31m---------------------------------------------------------------------------\u001b[0m",
      "\u001b[1;31mAssertionError\u001b[0m                            Traceback (most recent call last)",
      "Input \u001b[1;32mIn [13]\u001b[0m, in \u001b[0;36m<cell line: 2>\u001b[1;34m()\u001b[0m\n\u001b[0;32m      1\u001b[0m \u001b[38;5;66;03m# tensor = tensor.to('cuda')\u001b[39;00m\n\u001b[1;32m----> 2\u001b[0m tensor \u001b[38;5;241m=\u001b[39m \u001b[43mtensor\u001b[49m\u001b[38;5;241;43m.\u001b[39;49m\u001b[43mcuda\u001b[49m\u001b[43m(\u001b[49m\u001b[38;5;241;43m1\u001b[39;49m\u001b[43m)\u001b[49m\n\u001b[0;32m      3\u001b[0m tensor\u001b[38;5;241m.\u001b[39mdevice\n",
      "File \u001b[1;32m~\\miniforge3\\envs\\fastcampus\\lib\\site-packages\\torch\\cuda\\__init__.py:211\u001b[0m, in \u001b[0;36m_lazy_init\u001b[1;34m()\u001b[0m\n\u001b[0;32m    207\u001b[0m     \u001b[38;5;28;01mraise\u001b[39;00m \u001b[38;5;167;01mRuntimeError\u001b[39;00m(\n\u001b[0;32m    208\u001b[0m         \u001b[38;5;124m\"\u001b[39m\u001b[38;5;124mCannot re-initialize CUDA in forked subprocess. To use CUDA with \u001b[39m\u001b[38;5;124m\"\u001b[39m\n\u001b[0;32m    209\u001b[0m         \u001b[38;5;124m\"\u001b[39m\u001b[38;5;124mmultiprocessing, you must use the \u001b[39m\u001b[38;5;124m'\u001b[39m\u001b[38;5;124mspawn\u001b[39m\u001b[38;5;124m'\u001b[39m\u001b[38;5;124m start method\u001b[39m\u001b[38;5;124m\"\u001b[39m)\n\u001b[0;32m    210\u001b[0m \u001b[38;5;28;01mif\u001b[39;00m \u001b[38;5;129;01mnot\u001b[39;00m \u001b[38;5;28mhasattr\u001b[39m(torch\u001b[38;5;241m.\u001b[39m_C, \u001b[38;5;124m'\u001b[39m\u001b[38;5;124m_cuda_getDeviceCount\u001b[39m\u001b[38;5;124m'\u001b[39m):\n\u001b[1;32m--> 211\u001b[0m     \u001b[38;5;28;01mraise\u001b[39;00m \u001b[38;5;167;01mAssertionError\u001b[39;00m(\u001b[38;5;124m\"\u001b[39m\u001b[38;5;124mTorch not compiled with CUDA enabled\u001b[39m\u001b[38;5;124m\"\u001b[39m)\n\u001b[0;32m    212\u001b[0m \u001b[38;5;28;01mif\u001b[39;00m _cudart \u001b[38;5;129;01mis\u001b[39;00m \u001b[38;5;28;01mNone\u001b[39;00m:\n\u001b[0;32m    213\u001b[0m     \u001b[38;5;28;01mraise\u001b[39;00m \u001b[38;5;167;01mAssertionError\u001b[39;00m(\n\u001b[0;32m    214\u001b[0m         \u001b[38;5;124m\"\u001b[39m\u001b[38;5;124mlibcudart functions unavailable. It looks like you have a broken build?\u001b[39m\u001b[38;5;124m\"\u001b[39m)\n",
      "\u001b[1;31mAssertionError\u001b[0m: Torch not compiled with CUDA enabled"
     ]
    }
   ],
   "source": [
    "# tensor = tensor.to('cuda')\n",
    "tensor = tensor.cuda(1)  # cpu - cpu, gpu-gpu 간 연산만 가능(cuda 0 - cuda 0, cuda 1 - cuda 1)\n",
    "tensor.device"
   ]
  },
  {
   "cell_type": "code",
   "execution_count": 14,
   "id": "0a6d447a",
   "metadata": {},
   "outputs": [
    {
     "data": {
      "text/plain": [
       "tensor([[1., 0., 1., 1.],\n",
       "        [1., 0., 1., 1.],\n",
       "        [1., 0., 1., 1.],\n",
       "        [1., 0., 1., 1.]])"
      ]
     },
     "execution_count": 14,
     "metadata": {},
     "output_type": "execute_result"
    }
   ],
   "source": [
    "# tensor operations\n",
    "tensor = torch.ones(4,4)\n",
    "tensor[:,1] = 0\n",
    "tensor"
   ]
  },
  {
   "cell_type": "code",
   "execution_count": 16,
   "id": "88c92a2d",
   "metadata": {},
   "outputs": [
    {
     "data": {
      "text/plain": [
       "tensor([[1., 0., 1., 1., 1., 0., 1., 1.],\n",
       "        [1., 0., 1., 1., 1., 0., 1., 1.],\n",
       "        [1., 0., 1., 1., 1., 0., 1., 1.],\n",
       "        [1., 0., 1., 1., 1., 0., 1., 1.]])"
      ]
     },
     "execution_count": 16,
     "metadata": {},
     "output_type": "execute_result"
    }
   ],
   "source": [
    "torch.cat([tensor,tensor], dim=1)"
   ]
  },
  {
   "cell_type": "code",
   "execution_count": 17,
   "id": "cf27006c",
   "metadata": {},
   "outputs": [
    {
     "data": {
      "text/plain": [
       "tensor([[1., 0., 1., 1.],\n",
       "        [1., 0., 1., 1.],\n",
       "        [1., 0., 1., 1.],\n",
       "        [1., 0., 1., 1.]])"
      ]
     },
     "execution_count": 17,
     "metadata": {},
     "output_type": "execute_result"
    }
   ],
   "source": [
    "tensor + tensor * tensor - tensor  # element-wise arithmetic operations"
   ]
  },
  {
   "cell_type": "code",
   "execution_count": 18,
   "id": "0ea12c57",
   "metadata": {},
   "outputs": [
    {
     "data": {
      "text/plain": [
       "tensor([[3., 0., 3., 3.],\n",
       "        [3., 0., 3., 3.],\n",
       "        [3., 0., 3., 3.],\n",
       "        [3., 0., 3., 3.]])"
      ]
     },
     "execution_count": 18,
     "metadata": {},
     "output_type": "execute_result"
    }
   ],
   "source": [
    "tensor @ tensor                   # matrix multiplication"
   ]
  },
  {
   "cell_type": "markdown",
   "id": "1272b79e",
   "metadata": {},
   "source": [
    "## Loading Data\n",
    "- custom dataset을 loading할 때는 __init__(self,[]), __len__(self), __getitem__(self, idx) methods를 define해야 함  \n",
    "1. init : dataset root directory / transform / image path 등 정의\n",
    "2. len : dataset의 length(크기)를 반환 -> DataLoader의 batch_size 등을 정할 때 필요\n",
    "3. getitem : (idx)^th data를 return -> DataLoader call this method"
   ]
  },
  {
   "cell_type": "code",
   "execution_count": 19,
   "id": "364bae8a",
   "metadata": {},
   "outputs": [],
   "source": [
    "# all datasets are subsets of torch.utils.data.Dataset\n",
    "# you can make your own datasets by inheriting Dataset class\n",
    "from torch.utils.data import Dataset\n",
    "from torchvision import datasets\n",
    "from torchvision.transforms import ToTensor\n",
    "import matplotlib.pyplot as plt"
   ]
  },
  {
   "cell_type": "code",
   "execution_count": null,
   "id": "9747b3c6",
   "metadata": {},
   "outputs": [],
   "source": [
    "# Some famous datasets is provided in torchvision.datasets\n",
    "training_data = datasets.FashionMNIST(\n",
    "    root = \"data\",\n",
    "    train = True,\n",
    "    download = True,\n",
    "    transform = ToTensor())\n",
    "\n",
    "test_data = datasets.FashionMNIST(\n",
    "    root = \"data\",\n",
    "    train = False,\n",
    "    download = True,\n",
    "    transform = ToTensor())"
   ]
  },
  {
   "cell_type": "code",
   "execution_count": null,
   "id": "6ddd3f5e",
   "metadata": {},
   "outputs": [],
   "source": [
    "# DataLoader reads datasets and handles multi-process mini-batch data loading\n",
    "# Multi-process mini-batch loader can avoid bottleneck on reading and transferring data\n",
    "train_loader = DataLoader(dataset=training_data,\n",
    "                         batch_size = 32,\n",
    "                         shuffle = True,   # 모델이 이미지 순서를 cheating하여 학습하지 않도록 trainig은 shuffle해줘야 함(test는 shuffle하지 않는다)\n",
    "                         num_workers = 2)  # 멀티 프로세스의 workers 수"
   ]
  },
  {
   "cell_type": "markdown",
   "id": "9e71af86",
   "metadata": {},
   "source": [
    "## Build the Neural Network\n",
    "You should define two method in network class: \"__init__\" and \"__forward__\"\n",
    "- init : You need to implement the network architecture using torch.nn namespace.\n",
    "- forward : define how do you compute the forward path of the neural network."
   ]
  },
  {
   "cell_type": "code",
   "execution_count": 22,
   "id": "99ac0731",
   "metadata": {},
   "outputs": [],
   "source": [
    "from torch import nn\n",
    "class NeuralNetwork(nn.Module):\n",
    "    def __init__(self):\n",
    "        super(NeuralNetwork, self).__init__()\n",
    "        self.flatten = nn.Flatten()\n",
    "        self.linear_relu_stack = nn.Sequential(nn.Linear(28*28, 512),\n",
    "                                              nn.ReLU(),\n",
    "                                              nn.Linear(512,512),\n",
    "                                              nn.ReLU(),\n",
    "                                              nn.Linear(512,10),\n",
    "                                              )\n",
    "        \n",
    "        \n",
    "    def forward(self, x):\n",
    "        x = self.flatten(x)\n",
    "        logits = self.linear_relu_stack(x)\n",
    "        return logits"
   ]
  },
  {
   "cell_type": "markdown",
   "id": "71f796e3",
   "metadata": {},
   "source": [
    "## Training\n",
    "1. define Model\n",
    "2. define DataLoader\n",
    "3. define Optimizer\n",
    "4. Iterate the below lines until reaching the max_epoch.(but, you can set stop iteration when model is overfitted)  \n",
    "   (1) Sample a batch from the data loader  \n",
    "   (2) Predict the output using the neural network  \n",
    "   (3) Compute the error between the answer and prediction  \n",
    "   (4) Compute the gradient using optimizer  \n",
    "   (5) Backpropagate the gradient to optimize the NN parameters  "
   ]
  },
  {
   "cell_type": "code",
   "execution_count": null,
   "id": "d48189fc",
   "metadata": {},
   "outputs": [],
   "source": [
    "def train_loop(dataloader, model, loss_fn, optimizer):\n",
    "    size = len(dataloader.dataset)\n",
    "    for batch, (X,y) in enumerate(dataloader):  # epoch만큼 iterate 한다\n",
    "        # Compute prediction and loss\n",
    "        pred = model(X)\n",
    "        loss = loss_fn(pred, y)\n",
    "        \n",
    "        # Backpropagation : 세 줄로 이루어진 optimization step\n",
    "        optimizer.zero_grad()\n",
    "        loss.backward()\n",
    "        optimizer.step()  # gradient 전부 계산되면 정해준 optimization 알고리즘에 따라 model weight update\n",
    "        \n",
    "        # logging\n",
    "        if batch % 100 == 0:\n",
    "            loss, current = loss.item(), batch * len(X)\n",
    "            print(f\"loss: {loss:>7f} [{current:>5d} / {size:>5d}]\")"
   ]
  },
  {
   "cell_type": "markdown",
   "id": "b3883377",
   "metadata": {},
   "source": [
    "## Save and Load Model Weights\n",
    "PyTorch library also provide the functions(torch.save, torch.load) to save and store model weights."
   ]
  },
  {
   "cell_type": "code",
   "execution_count": null,
   "id": "47711985",
   "metadata": {},
   "outputs": [],
   "source": [
    "model = models.vgg16(pretrained = True)\n",
    "torch.save(model.state_dict(), 'model_weights.pth')"
   ]
  },
  {
   "cell_type": "code",
   "execution_count": null,
   "id": "43bcd8fa",
   "metadata": {},
   "outputs": [],
   "source": [
    "model = models.vgg16() # We do not specify pretrained = True, i.e. do not load default weights\n",
    "model.load_state_dict(torch.load('model_weights.pth'))  # vgg16 pretrained weights를 dict에 박아주고\n",
    "model.eval()                                           # training을 통한 model update하지 않고 test만 바로 한다면 eval"
   ]
  },
  {
   "cell_type": "markdown",
   "id": "8b461bff",
   "metadata": {},
   "source": [
    "## Transfer Learning(with torchvision model)\n",
    "Example of image classification model fine-tuning(transfer learning)"
   ]
  },
  {
   "cell_type": "code",
   "execution_count": null,
   "id": "8fc8dbd3",
   "metadata": {},
   "outputs": [],
   "source": [
    "model_ft = models.resnet18(pretrained = True)\n",
    "num_ftrs = model_ft.fc.in_features\n",
    "\n",
    "model_ft.fc = nn.Linear(num_ftrs, 2) # pretrained resnet 모델은 1000개의 classes를 분류하지만, \n",
    "                                     # FC Layer에서 2개의 class만 분류하도록 FC Layer fine-tuning\n",
    "model_ft = model_ft.to(device)\n",
    "criterion = nn.CrossEnrtopyLoss()    # linear -> MSE, linear + activation function -> CrossEntropy\n",
    "optimizer_ft = optim.SGD(model_ft.parameters(), lr=0.001, momentum=0.9)   # Adam, SGD 중 SGD를 optimizer로 선택 + momentum(관성)\n",
    "exp_lr_scheduler = lr_scheduler.StepLR(optimizer_ft, step_size=7, gamma=0.1)  # lr은 학습을 진행할수록 점차 줄여나가는 게 효과적"
   ]
  }
 ],
 "metadata": {
  "kernelspec": {
   "display_name": "Python 3 (ipykernel)",
   "language": "python",
   "name": "python3"
  },
  "language_info": {
   "codemirror_mode": {
    "name": "ipython",
    "version": 3
   },
   "file_extension": ".py",
   "mimetype": "text/x-python",
   "name": "python",
   "nbconvert_exporter": "python",
   "pygments_lexer": "ipython3",
   "version": "3.8.13"
  }
 },
 "nbformat": 4,
 "nbformat_minor": 5
}
