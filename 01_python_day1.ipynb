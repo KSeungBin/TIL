{
  "nbformat": 4,
  "nbformat_minor": 0,
  "metadata": {
    "colab": {
      "provenance": [],
      "authorship_tag": "ABX9TyPaD73KDFKdcWdcYgDylfD2",
      "include_colab_link": true
    },
    "kernelspec": {
      "name": "python3",
      "display_name": "Python 3"
    },
    "language_info": {
      "name": "python"
    }
  },
  "cells": [
    {
      "cell_type": "markdown",
      "metadata": {
        "id": "view-in-github",
        "colab_type": "text"
      },
      "source": [
        "<a href=\"https://colab.research.google.com/github/KSeungBin/TIL/blob/main/01_python_day1.ipynb\" target=\"_parent\"><img src=\"https://colab.research.google.com/assets/colab-badge.svg\" alt=\"Open In Colab\"/></a>"
      ]
    },
    {
      "cell_type": "code",
      "execution_count": null,
      "metadata": {
        "id": "pFuq5wjblnRi"
      },
      "outputs": [],
      "source": [
        "# 모드(mode): 명령모드(셀을 수정: esc), 편집모드(셀 내용을 수정:enter)\n",
        "# 스타일(style): 코드(파이썬 코드를 작성 및 실행), 텍스트(마크다운 문법을 작성 및 실행)\n",
        "# 단축키(short cut): 자동완성(ctrl+space) -> 오타를 줄이기 위해 자동완성 기능을 많이 사용하는 것이 좋다"
      ]
    },
    {
      "cell_type": "code",
      "source": [
        "# python 기초 문법\n",
        "# 목적: CPU, RAM, SSD의 자원을 사용하기 위한 방법\n",
        "# 1. 변수선언: RAM을 사용하는 문법: RAM에 저장공간을 만들어 데이터 저장\n",
        "# 2. 데이터타입: RAM을 효율적으로 사용하는 문법\n",
        "# 3. 연산자: CPU를 사용하는 문법\n",
        "# 4. 조건문: 특정 조건에 따라서 다른 코드를 실행\n",
        "# 5. 반복문: 특정 코드를 반복적으로 실행\n",
        "# 6. 함수: 중복되는 코드를 묶어서 작성하여 실행하는 문법\n",
        "# 7. 클래스: 변수, 함수를 묶어서 코드를 작성 및 실행하는 문법\n",
        "# 8. 모듈: 변수, 함수, 클래스를 하나의 파일로 묶어서 코드를 작성 및 실행\n",
        "# 9. 패키지: 여러 개의 모듈 파일을 디렉토리로 묶어서 코드를 작성 및 실행 -> 프로그램은 주로 패키지 단위로 개발, 패키지에서 버전 정보를 저장하고 있음\n",
        "# 10. 입출력: SSD(HDD)를 사용하는 문법 -> 메모리에 저장되어 있는 데이터를 SSD에 저장하거나, SSD에 저장된 것을 메모리로 불러올 때 사용\n",
        "# 에외 출력, 정규 표현식 ..."
      ],
      "metadata": {
        "id": "NpY4sOFmnl7W"
      },
      "execution_count": null,
      "outputs": []
    },
    {
      "cell_type": "code",
      "source": [
        "# 1. 변수선언\n",
        "# 식별자: 저장공간을 구별하는 문자열\n",
        "# 식별자규칙\n",
        "# - 문법(틀리면 에러): 1) 대소문자, 숫자, _만 사용 가능) 2) 가장 앞에 숫자 X 3) 명령어 사용 X: def, if, for \n",
        "# - 컨벤션(틀려도 실행됨): PEP8 1) Snake case: JupyterNotebook(X), jupyterNotebook(X), jupyter_notebook(O)\n"
      ],
      "metadata": {
        "id": "uRnNqWCUnmjQ"
      },
      "execution_count": null,
      "outputs": []
    },
    {
      "cell_type": "code",
      "source": [
        "# 식별자 1개, 데이터 1개\n",
        "data1 = 1\n",
        "\n",
        "# 식별자 N개, 데이터 N개\n",
        "data2, data3 = 2, 3\n",
        "\n",
        "# 식별자 N개, 데이터 1개\n",
        "data4 =data5 = 4\n",
        "\n",
        "# 식별자 1개, 데이터 N개: 데이터타입 > 컬렉션 데이터타입"
      ],
      "metadata": {
        "id": "HlWOWpSqx8QL"
      },
      "execution_count": 1,
      "outputs": []
    },
    {
      "cell_type": "code",
      "source": [
        "# print(): 식별자에 저장되어 있는 데이터 출력\n",
        "print(data4, data5)"
      ],
      "metadata": {
        "colab": {
          "base_uri": "https://localhost:8080/"
        },
        "id": "UcfGi0Iry2dx",
        "outputId": "468c7a22-81b4-420f-9e0e-167f26cfd81e"
      },
      "execution_count": 3,
      "outputs": [
        {
          "output_type": "stream",
          "name": "stdout",
          "text": [
            "4 4\n"
          ]
        }
      ]
    },
    {
      "cell_type": "code",
      "source": [
        "# ipython 기능: 마지막 변수는 print 함수를 사용하지 않아도 데이터 출력\n",
        "print(data1)\n",
        "data2"
      ],
      "metadata": {
        "colab": {
          "base_uri": "https://localhost:8080/"
        },
        "id": "4P2kxjhBzTd6",
        "outputId": "4e0d122a-4a2e-4f00-a7a9-96d0626ecca4"
      },
      "execution_count": 6,
      "outputs": [
        {
          "output_type": "stream",
          "name": "stdout",
          "text": [
            "1\n"
          ]
        },
        {
          "output_type": "execute_result",
          "data": {
            "text/plain": [
              "2"
            ]
          },
          "metadata": {},
          "execution_count": 6
        }
      ]
    },
    {
      "cell_type": "code",
      "source": [
        "# 2. 데이터타입\n",
        "# 기본: int, float, bool(가장 적은 메모리 차지), str(가장 많은 메모리 차지) -> 동적타이핑: 변수 선언시 자동으로 데이터에 따라서 데이터 타입이 설정\n",
        "# 컬렉션: list, tuple, dict, set -> 식별자 1개, 데이터 N개"
      ],
      "metadata": {
        "id": "DPoJLrvYzj-d"
      },
      "execution_count": null,
      "outputs": []
    },
    {
      "cell_type": "code",
      "source": [
        "d1, d2, d3, d4 = -2, 1.2, True, 'python'"
      ],
      "metadata": {
        "id": "T5SD77n5I03S"
      },
      "execution_count": 3,
      "outputs": []
    },
    {
      "cell_type": "code",
      "source": [
        "# type(): 식별자에 설정된 데이터 타입 출력\n",
        "type(d1), type(d2), type(d3), type(d4)"
      ],
      "metadata": {
        "colab": {
          "base_uri": "https://localhost:8080/"
        },
        "id": "K8687D-DI-4V",
        "outputId": "32ef8062-8f19-455b-dac3-11bf9260e03b"
      },
      "execution_count": 4,
      "outputs": [
        {
          "output_type": "execute_result",
          "data": {
            "text/plain": [
              "(int, float, bool, str)"
            ]
          },
          "metadata": {},
          "execution_count": 4
        }
      ]
    },
    {
      "cell_type": "code",
      "source": [
        "# list: [] : 순서가 있고 수정이 가능\n",
        "d1 = [1, 2, 3, 'A', 'B']\n",
        "type(d1), d1"
      ],
      "metadata": {
        "colab": {
          "base_uri": "https://localhost:8080/"
        },
        "id": "CLk0bfg6Jd5k",
        "outputId": "055657e4-aa46-4ae4-d007-500792bcd011"
      },
      "execution_count": 5,
      "outputs": [
        {
          "output_type": "execute_result",
          "data": {
            "text/plain": [
              "(list, [1, 2, 3, 'A', 'B'])"
            ]
          },
          "metadata": {},
          "execution_count": 5
        }
      ]
    },
    {
      "cell_type": "code",
      "source": [
        "# tuple: () : 순서가 있고 수정이 불가능\n",
        "d2 = (1, 2, 3, 'A', 'B')\n",
        "type(d2), d2"
      ],
      "metadata": {
        "colab": {
          "base_uri": "https://localhost:8080/"
        },
        "id": "BqlaxT7eKVFU",
        "outputId": "f9090276-2770-4ea9-e645-526cde1d9e1a"
      },
      "execution_count": 6,
      "outputs": [
        {
          "output_type": "execute_result",
          "data": {
            "text/plain": [
              "(tuple, (1, 2, 3, 'A', 'B'))"
            ]
          },
          "metadata": {},
          "execution_count": 6
        }
      ]
    },
    {
      "cell_type": "code",
      "source": [
        "# dict: {} : 순서가 없고, 순서(인덱스)대신 키값을 사용 : {key: value}\n",
        "d3 = {'one': 1, 2: 'A'}\n",
        "type(d3), d3"
      ],
      "metadata": {
        "colab": {
          "base_uri": "https://localhost:8080/"
        },
        "id": "yUMhvdUqKVtb",
        "outputId": "6c4f85cd-08e6-46cd-b6f9-01252496d31d"
      },
      "execution_count": 7,
      "outputs": [
        {
          "output_type": "execute_result",
          "data": {
            "text/plain": [
              "(dict, {'one': 1, 2: 'A'})"
            ]
          },
          "metadata": {},
          "execution_count": 7
        }
      ]
    },
    {
      "cell_type": "code",
      "source": [
        "# set: set() : 순서가 없고, 중복 데이터를 허용하지 않는다 : 합집합, 교집합, 차집합 연산\n",
        "d4 = set([1, 2, 3, 2])\n",
        "type(d4), d4"
      ],
      "metadata": {
        "colab": {
          "base_uri": "https://localhost:8080/"
        },
        "id": "b7gc1vwCKV91",
        "outputId": "808b6b51-f73f-4c6b-fb73-eaa5135f94bb"
      },
      "execution_count": 8,
      "outputs": [
        {
          "output_type": "execute_result",
          "data": {
            "text/plain": [
              "(set, {1, 2, 3})"
            ]
          },
          "metadata": {},
          "execution_count": 8
        }
      ]
    },
    {
      "cell_type": "code",
      "source": [
        "data = ['연금보험', '종신보험', '연금보험']\n",
        "set(data)"
      ],
      "metadata": {
        "colab": {
          "base_uri": "https://localhost:8080/"
        },
        "id": "3WrNOcKwNbyd",
        "outputId": "bec6169a-4836-4706-df4a-6e254da1c410"
      },
      "execution_count": 9,
      "outputs": [
        {
          "output_type": "execute_result",
          "data": {
            "text/plain": [
              "{'연금보험', '종신보험'}"
            ]
          },
          "metadata": {},
          "execution_count": 9
        }
      ]
    },
    {
      "cell_type": "code",
      "source": [
        "# CRUD: CREATE, READ, UPDATE(데이터 수정), DELETE\n",
        "# READ: masking: data[]\n",
        "# [index], [start:end], [start:end:stride]\n",
        "# start(포함, 가장 앞), end(불포함, 가장 뒤)"
      ],
      "metadata": {
        "id": "ykboupOHNvVt"
      },
      "execution_count": null,
      "outputs": []
    },
    {
      "cell_type": "code",
      "source": [
        "# 순서가 있는 데이터(list, tuple)에 사용 가능한 문법\n",
        "d1, d1[3], d1[1:4], d1[:2], d1[3:], d1[::2]"
      ],
      "metadata": {
        "colab": {
          "base_uri": "https://localhost:8080/"
        },
        "id": "6A_5Yk5OOhsU",
        "outputId": "9f6ecdd2-d3c2-4ccb-93cb-01efaf2e3645"
      },
      "execution_count": 16,
      "outputs": [
        {
          "output_type": "execute_result",
          "data": {
            "text/plain": [
              "([1, 2, 3, 'A', 'B'], 'A', [2, 3, 'A'], [1, 2], ['A', 'B'], [1, 3, 'B'])"
            ]
          },
          "metadata": {},
          "execution_count": 16
        }
      ]
    },
    {
      "cell_type": "code",
      "source": [
        "# -값 사용 가능\n",
        "d1[-2:], d1[::-2]"
      ],
      "metadata": {
        "colab": {
          "base_uri": "https://localhost:8080/"
        },
        "id": "kHZBZvRFOkO6",
        "outputId": "8b0e481e-1910-4976-e5db-5d9560304739"
      },
      "execution_count": 17,
      "outputs": [
        {
          "output_type": "execute_result",
          "data": {
            "text/plain": [
              "(['A', 'B'], ['B', 3, 1])"
            ]
          },
          "metadata": {},
          "execution_count": 17
        }
      ]
    },
    {
      "cell_type": "code",
      "source": [
        "data = 'python'\n",
        "data[:2]"
      ],
      "metadata": {
        "colab": {
          "base_uri": "https://localhost:8080/",
          "height": 35
        },
        "id": "Enwx3FtWQE8i",
        "outputId": "0b55cf90-5edc-48ee-c031-ac2acf0cbd39"
      },
      "execution_count": 18,
      "outputs": [
        {
          "output_type": "execute_result",
          "data": {
            "text/plain": [
              "'py'"
            ],
            "application/vnd.google.colaboratory.intrinsic+json": {
              "type": "string"
            }
          },
          "metadata": {},
          "execution_count": 18
        }
      ]
    },
    {
      "cell_type": "code",
      "source": [
        "data1, data2 = '사업보고서(2020)', '[기재정정]사업보고서(2022)'\n",
        "data1[-5:-1], data2[-5:-1]"
      ],
      "metadata": {
        "colab": {
          "base_uri": "https://localhost:8080/"
        },
        "id": "XsRvceoWQd2j",
        "outputId": "4b84bee4-32b3-4499-b386-58bee9f99003"
      },
      "execution_count": 22,
      "outputs": [
        {
          "output_type": "execute_result",
          "data": {
            "text/plain": [
              "('2020', '2022')"
            ]
          },
          "metadata": {},
          "execution_count": 22
        }
      ]
    },
    {
      "cell_type": "code",
      "source": [
        "# dict 데이터 타입은 key를 사용해서 데이터를 선택\n",
        "d3[2]"
      ],
      "metadata": {
        "colab": {
          "base_uri": "https://localhost:8080/",
          "height": 35
        },
        "id": "08-FlUHwRSne",
        "outputId": "321fedee-6fa6-4f7b-eeb5-c5865e544051"
      },
      "execution_count": 24,
      "outputs": [
        {
          "output_type": "execute_result",
          "data": {
            "text/plain": [
              "'A'"
            ],
            "application/vnd.google.colaboratory.intrinsic+json": {
              "type": "string"
            }
          },
          "metadata": {},
          "execution_count": 24
        }
      ]
    },
    {
      "cell_type": "code",
      "source": [
        "# tuple 데이터 타입 사용 이유\n",
        "# 같은 데이터를 저장할 때 list보다 tuple이 저장공간을 적게 사용\n",
        "import sys\n",
        "data1, data2 = [1,2,3], (1,2,3)\n",
        "sys.getsizeof(data1, data2)"
      ],
      "metadata": {
        "colab": {
          "base_uri": "https://localhost:8080/"
        },
        "id": "REmTfm6qSKu6",
        "outputId": "20313b99-5e61-42f3-e58f-2c16808d5471"
      },
      "execution_count": 25,
      "outputs": [
        {
          "output_type": "execute_result",
          "data": {
            "text/plain": [
              "120"
            ]
          },
          "metadata": {},
          "execution_count": 25
        }
      ]
    },
    {
      "cell_type": "code",
      "source": [
        "# DELETE: del 데이터선택\n",
        "print(d3)\n",
        "del d3['one']\n",
        "d3"
      ],
      "metadata": {
        "colab": {
          "base_uri": "https://localhost:8080/"
        },
        "id": "PoSSewwLZFj8",
        "outputId": "a3633742-d126-4c63-dd84-025c94534e87"
      },
      "execution_count": 26,
      "outputs": [
        {
          "output_type": "stream",
          "name": "stdout",
          "text": [
            "{'one': 1, 2: 'A'}\n"
          ]
        },
        {
          "output_type": "execute_result",
          "data": {
            "text/plain": [
              "{2: 'A'}"
            ]
          },
          "metadata": {},
          "execution_count": 26
        }
      ]
    },
    {
      "cell_type": "code",
      "source": [
        "print(d1)\n",
        "del d1[3]\n",
        "d1"
      ],
      "metadata": {
        "colab": {
          "base_uri": "https://localhost:8080/"
        },
        "id": "TAlGB_xTZ3Wu",
        "outputId": "6e4d080b-41a4-4488-b2a4-bd8243fe4997"
      },
      "execution_count": 28,
      "outputs": [
        {
          "output_type": "stream",
          "name": "stdout",
          "text": [
            "[1, 2, 3, 'A', 'B']\n"
          ]
        },
        {
          "output_type": "execute_result",
          "data": {
            "text/plain": [
              "[1, 2, 3, 'B']"
            ]
          },
          "metadata": {},
          "execution_count": 28
        }
      ]
    },
    {
      "cell_type": "code",
      "source": [
        "# 실수할만한 코드 1\n",
        "data1 = [1,2,3] # original data\n",
        "data2 = data1   # 얕은 복사: 주소값 복사\n",
        "data3 = data1.copy() # 깊은 복사: 데이터(값) 복사\n",
        "print(data1, data2)\n",
        "\n",
        "data2[1] = 4\n",
        "print(data1, data2) # original data도 수정되었음"
      ],
      "metadata": {
        "colab": {
          "base_uri": "https://localhost:8080/"
        },
        "id": "CALwXx7QZ8gI",
        "outputId": "c0762ff6-862f-442b-db4a-ae1790f8cf40"
      },
      "execution_count": 33,
      "outputs": [
        {
          "output_type": "stream",
          "name": "stdout",
          "text": [
            "[1, 2, 3] [1, 2, 3]\n",
            "[1, 4, 3] [1, 4, 3]\n"
          ]
        }
      ]
    },
    {
      "cell_type": "code",
      "source": [
        "# id(): 식별자의 주소값 출력\n",
        "# 특정 식별자의 속성에 대한 데이터 출력: print, type, id, sys.getsizeof\n",
        "id(data1), id(data2), id(data3)"
      ],
      "metadata": {
        "colab": {
          "base_uri": "https://localhost:8080/"
        },
        "id": "fbkdnd8vagY-",
        "outputId": "f1078867-4654-4c3b-b8be-bdbbe6a92aba"
      },
      "execution_count": 34,
      "outputs": [
        {
          "output_type": "execute_result",
          "data": {
            "text/plain": [
              "(140020632052992, 140020632052992, 140020632425088)"
            ]
          },
          "metadata": {},
          "execution_count": 34
        }
      ]
    },
    {
      "cell_type": "code",
      "source": [
        "# 3. 연산자\n",
        "# 산술 : 데이터 + 데이터 = 데이터 : +, - < *, /, //, % < **\n",
        "# 할당 : 식별자(변수명) <산술>= 데이터 : 변수에 데이터를 누적해서 연산\n",
        "# 비교 : 데이터 + 데이터 = 논리값 : ==, !=, >, <, >=, <=\n",
        "# 논리 : 논리값 + 논리값 = 논리값\n",
        "#   - not, and(True and True = True), or(False or False = False)\n",
        "# 멤버 : 컬렉션 데이터에서 특정 데이터가 포함 확인 : in, not in "
      ],
      "metadata": {
        "id": "vVj_F-izcunt"
      },
      "execution_count": null,
      "outputs": []
    },
    {
      "cell_type": "code",
      "source": [
        "# 나이를 연령대로 변환\n",
        "age = 45\n",
        "ages = (age // 10) * 10\n",
        "ages"
      ],
      "metadata": {
        "colab": {
          "base_uri": "https://localhost:8080/"
        },
        "id": "NZNiwE6sfyAR",
        "outputId": "23ec53f2-d13f-48b5-e390-5fddabc6ea23"
      },
      "execution_count": 35,
      "outputs": [
        {
          "output_type": "execute_result",
          "data": {
            "text/plain": [
              "40"
            ]
          },
          "metadata": {},
          "execution_count": 35
        }
      ]
    },
    {
      "cell_type": "code",
      "source": [
        "# 할당연산자\n",
        "data = 10\n",
        "data += 5 # data = data + 5\n",
        "data"
      ],
      "metadata": {
        "colab": {
          "base_uri": "https://localhost:8080/"
        },
        "id": "FTFAo7YpgEW0",
        "outputId": "7f0fde27-b341-40ca-84e4-fffcd28cd290"
      },
      "execution_count": 36,
      "outputs": [
        {
          "output_type": "execute_result",
          "data": {
            "text/plain": [
              "15"
            ]
          },
          "metadata": {},
          "execution_count": 36
        }
      ]
    },
    {
      "cell_type": "code",
      "source": [
        "# 비교연산자: 조건 1개\n",
        "d1 = 14\n",
        "d2 = 4\n",
        "d1 == d2, d1 != d2"
      ],
      "metadata": {
        "colab": {
          "base_uri": "https://localhost:8080/"
        },
        "id": "qX8kpFAPgiJt",
        "outputId": "875383b8-9fd3-4b49-feb9-f666caa9c840"
      },
      "execution_count": 39,
      "outputs": [
        {
          "output_type": "execute_result",
          "data": {
            "text/plain": [
              "(False, True)"
            ]
          },
          "metadata": {},
          "execution_count": 39
        }
      ]
    },
    {
      "cell_type": "code",
      "source": [
        "# 논리연산자: 조건 2개 이상\n",
        "# 조건 1: 예금잔고, 출금금액: 출금가능여부 T, F\n",
        "# 조건 2: 1회 최대 출금 금액 5000원\n",
        "balance = 10000\n",
        "withdraw = 7000\n",
        "max_withdraw = 5000\n",
        "balance >= withdraw and withdraw <= max_withdraw"
      ],
      "metadata": {
        "colab": {
          "base_uri": "https://localhost:8080/"
        },
        "id": "BvMEMro1lFDF",
        "outputId": "29e818f0-0fec-4734-ba37-f62b4c4c0539"
      },
      "execution_count": 40,
      "outputs": [
        {
          "output_type": "execute_result",
          "data": {
            "text/plain": [
              "False"
            ]
          },
          "metadata": {},
          "execution_count": 40
        }
      ]
    },
    {
      "cell_type": "code",
      "source": [
        "# 산술 > 비교 > 논리(and > or)\n",
        "year = 2000\n",
        "year % 4 == 0 and year % 100 != 0 or year % 400 == 0"
      ],
      "metadata": {
        "colab": {
          "base_uri": "https://localhost:8080/"
        },
        "id": "dPVeYHi9nHr4",
        "outputId": "3e530ddf-29c9-4e22-8589-3c011e92c9d0"
      },
      "execution_count": 41,
      "outputs": [
        {
          "output_type": "execute_result",
          "data": {
            "text/plain": [
              "True"
            ]
          },
          "metadata": {},
          "execution_count": 41
        }
      ]
    },
    {
      "cell_type": "code",
      "source": [
        "# 멤버연산자: 컬렉션 데이터에 특정 데이터가 있는지 확인\n",
        "data = ['연금보험', '종신보험']\n",
        "'연금보험' in data, '자동차보험' not in data"
      ],
      "metadata": {
        "colab": {
          "base_uri": "https://localhost:8080/"
        },
        "id": "p7buwfkLsQ3G",
        "outputId": "d35dc414-04bf-4a27-e093-b1f2c7570ec3"
      },
      "execution_count": 42,
      "outputs": [
        {
          "output_type": "execute_result",
          "data": {
            "text/plain": [
              "(True, True)"
            ]
          },
          "metadata": {},
          "execution_count": 42
        }
      ]
    },
    {
      "cell_type": "code",
      "source": [
        "# 형변환 함수: int, float, bool, str, list, tuple, dict, set\n",
        "list('ABCD'), bool(1), bool(0)"
      ],
      "metadata": {
        "colab": {
          "base_uri": "https://localhost:8080/"
        },
        "id": "Y9inety3sarX",
        "outputId": "db35c6e4-3de1-45c3-a58a-bc23418746ee"
      },
      "execution_count": 43,
      "outputs": [
        {
          "output_type": "execute_result",
          "data": {
            "text/plain": [
              "(['A', 'B', 'C', 'D'], True, False)"
            ]
          },
          "metadata": {},
          "execution_count": 43
        }
      ]
    },
    {
      "cell_type": "code",
      "source": [
        "# 조건문: if, elif, else\n",
        "# 특정 조건에 따라서 다른 코드를 실행`"
      ],
      "metadata": {
        "id": "AhHvRzFQye_-"
      },
      "execution_count": null,
      "outputs": []
    },
    {
      "cell_type": "code",
      "source": [
        "# 실수하기 쉬운 코드 2\n",
        "# 부동소수점 에러: 실수를 2진수로 변환해서 연산\n",
        "d1, d2 = 0.1, 0.2\n",
        "print(d1 + d2 == 0.3) \n",
        "\n",
        "# 해결법 1: 반올림 : round()\n",
        "print(round(d1 + d2, 1) == 0.3)\n",
        "\n",
        "# 해결법 2: 고정소수점으로 연산 수행 -> 단, 연산 속도가 느려지는 단점\n",
        "from decimal import Decimal\n",
        "float(Decimal(str(d1)) + Decimal(str(d2)))"
      ],
      "metadata": {
        "colab": {
          "base_uri": "https://localhost:8080/"
        },
        "id": "5SycJtLT4YbU",
        "outputId": "ad3c7d52-762c-4dd6-d94d-ceac50d330ea"
      },
      "execution_count": 45,
      "outputs": [
        {
          "output_type": "stream",
          "name": "stdout",
          "text": [
            "False\n",
            "True\n"
          ]
        },
        {
          "output_type": "execute_result",
          "data": {
            "text/plain": [
              "0.3"
            ]
          },
          "metadata": {},
          "execution_count": 45
        }
      ]
    },
    {
      "cell_type": "code",
      "source": [
        "# 5. 반복문: 특정 코드를 반복적으로 실행할 때 사용하는 문법\n",
        "# while, for, range(), break, continue\n",
        "# while -> 무한루프에 빠지기 쉬움: 런타임 > 실행중단: 코드 실행 강제로 중지\n",
        "# 조건을 확인하는 코드의 결과가 bool이 아니면 bool로 형변환해서 판단\n",
        "count = 3\n",
        "while count:\n",
        "  print('kyobo')\n",
        "  count -= 1\n"
      ],
      "metadata": {
        "colab": {
          "base_uri": "https://localhost:8080/"
        },
        "id": "oPMlxcMR4ob9",
        "outputId": "0cda1e55-df1f-43f8-e1af-d1717d62071b"
      },
      "execution_count": 47,
      "outputs": [
        {
          "output_type": "stream",
          "name": "stdout",
          "text": [
            "kyobo\n",
            "kyobo\n",
            "kyobo\n"
          ]
        }
      ]
    },
    {
      "cell_type": "code",
      "source": [
        "bool(0), bool(0.0), bool(''), bool([]), bool(()), bool({})"
      ],
      "metadata": {
        "colab": {
          "base_uri": "https://localhost:8080/"
        },
        "id": "-HVOjlQo_sVN",
        "outputId": "91827102-8599-4370-d5ec-06bfef0347b6"
      },
      "execution_count": 48,
      "outputs": [
        {
          "output_type": "execute_result",
          "data": {
            "text/plain": [
              "(False, False, False, False, False, False)"
            ]
          },
          "metadata": {},
          "execution_count": 48
        }
      ]
    },
    {
      "cell_type": "code",
      "source": [
        "# for\n",
        "data = [0,1,2]\n",
        "for num in data: # in 뒤에 있는 컬렉션 데이터의 개수만큼 실행\n",
        "  print('kyobo', num)"
      ],
      "metadata": {
        "colab": {
          "base_uri": "https://localhost:8080/"
        },
        "id": "Z5v9HfQ5_9EO",
        "outputId": "a0b4f8db-6318-41ba-cea9-5ae1659d03ae"
      },
      "execution_count": 49,
      "outputs": [
        {
          "output_type": "stream",
          "name": "stdout",
          "text": [
            "kyobo 0\n",
            "kyobo 1\n",
            "kyobo 2\n"
          ]
        }
      ]
    },
    {
      "cell_type": "code",
      "source": [
        "# range(): 리스트 데이터를 만들어 주는 함수\n",
        "# range(end): end는 포함하지 않는다\n",
        "list(range(3))"
      ],
      "metadata": {
        "colab": {
          "base_uri": "https://localhost:8080/"
        },
        "id": "xEaq7XWfAlBB",
        "outputId": "7663e222-cc7d-43bb-b0ea-375a9e07edd6"
      },
      "execution_count": 50,
      "outputs": [
        {
          "output_type": "execute_result",
          "data": {
            "text/plain": [
              "[0, 1, 2]"
            ]
          },
          "metadata": {},
          "execution_count": 50
        }
      ]
    },
    {
      "cell_type": "code",
      "source": [
        "# range(start, end): start는 포함하고 end는 포함하지 않는다\n",
        "print(list(range(3, 10)))\n",
        "\n",
        "# range(start, end, stride)\n",
        "list(range(3, 10, 2))"
      ],
      "metadata": {
        "colab": {
          "base_uri": "https://localhost:8080/"
        },
        "id": "xaHgBLo8BMuP",
        "outputId": "43e75eff-0e0e-4654-8b08-ad0992324f23"
      },
      "execution_count": 52,
      "outputs": [
        {
          "output_type": "stream",
          "name": "stdout",
          "text": [
            "[3, 4, 5, 6, 7, 8, 9]\n"
          ]
        },
        {
          "output_type": "execute_result",
          "data": {
            "text/plain": [
              "[3, 5, 7, 9]"
            ]
          },
          "metadata": {},
          "execution_count": 52
        }
      ]
    },
    {
      "cell_type": "code",
      "source": [
        "# break: 반복문에서 강제로 코드실행 중단\n",
        "# continue: 반복을 정의하는 코드로 올라가서 코드를 실행, continue 뒤에 있는 코드는 실행되지 않는다\n",
        "for num in range(10):\n",
        "  if num == 2:\n",
        "    continue\n",
        "  print(num)\n",
        "  if num >= 6:\n",
        "    break"
      ],
      "metadata": {
        "colab": {
          "base_uri": "https://localhost:8080/"
        },
        "id": "-62C8suhB0ut",
        "outputId": "f3d954b0-9269-480d-9582-0c28b2a15aa0"
      },
      "execution_count": 54,
      "outputs": [
        {
          "output_type": "stream",
          "name": "stdout",
          "text": [
            "0\n",
            "1\n",
            "3\n",
            "4\n",
            "5\n",
            "6\n"
          ]
        }
      ]
    },
    {
      "cell_type": "code",
      "source": [],
      "metadata": {
        "id": "LSSEBAISC6J5"
      },
      "execution_count": null,
      "outputs": []
    }
  ]
}