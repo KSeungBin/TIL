{
  "nbformat": 4,
  "nbformat_minor": 0,
  "metadata": {
    "colab": {
      "provenance": [],
      "mount_file_id": "1KX_RVi4qV6qduT1Z8BY2vhokSwhag7F4",
      "authorship_tag": "ABX9TyMcGhAf/BeY9TsmEnv6OaVf",
      "include_colab_link": true
    },
    "kernelspec": {
      "name": "python3",
      "display_name": "Python 3"
    },
    "language_info": {
      "name": "python"
    }
  },
  "cells": [
    {
      "cell_type": "markdown",
      "metadata": {
        "id": "view-in-github",
        "colab_type": "text"
      },
      "source": [
        "<a href=\"https://colab.research.google.com/github/KSeungBin/TIL/blob/main/02_python_day2.ipynb\" target=\"_parent\"><img src=\"https://colab.research.google.com/assets/colab-badge.svg\" alt=\"Open In Colab\"/></a>"
      ]
    },
    {
      "cell_type": "code",
      "execution_count": 1,
      "metadata": {
        "colab": {
          "base_uri": "https://localhost:8080/"
        },
        "id": "utxmrVw0ciV7",
        "outputId": "3795f674-fc3e-41c4-ceab-a3948f7f38dd"
      },
      "outputs": [
        {
          "output_type": "stream",
          "name": "stdout",
          "text": [
            "A\n"
          ]
        }
      ],
      "source": [
        "# python\n",
        "def credit_1(score):\n",
        "  if (score >= 70):\n",
        "    return 'A'\n",
        "  if (score >= 40):\n",
        "    return 'B'\n",
        "  else:\n",
        "    return 'C'\n",
        "print(credit_1(90))"
      ]
    },
    {
      "cell_type": "code",
      "source": [
        "def credit_2(score):\n",
        "  if (score >= 70):\n",
        "    grade = 'A'\n",
        "  if (score >= 40):\n",
        "    grade = 'B'\n",
        "  else:\n",
        "    grade = 'C'\n",
        "  return grade\n",
        "\n",
        "print(credit_2(90))"
      ],
      "metadata": {
        "colab": {
          "base_uri": "https://localhost:8080/"
        },
        "id": "uvTdOqGsemQg",
        "outputId": "3e2369e8-392f-4b99-b0c8-42134e8a0cf7"
      },
      "execution_count": 3,
      "outputs": [
        {
          "output_type": "stream",
          "name": "stdout",
          "text": [
            "B\n"
          ]
        }
      ]
    },
    {
      "cell_type": "code",
      "source": [
        "# Python(복습)\n",
        "# CPU, RAM, SSD(HDD) 자원을 사용하는 방법\n",
        "# 1. 변수선언 : RAM 사용 방법\n",
        "#   - RAM에 저장공간을 만들어 데이터를 저장\n",
        "#   - 식별자 : 저장공간을 구별하기 위한 문자열\n",
        "#   - 식별자규칙 : 대소문자, 숫자, _ 사용가능 : 가장 앞에 숫자 X : 명령어 X : snake_case\n",
        "#   - 식별자 1개, 데이터 1개 : 식별자 n개, 데이터 n개 : 식별자 n개, 데이터 1개\n",
        "# 2. 데이터타입 : RAM 효율적 사용 방법\n",
        "#   - 기본 : int, float, bool, str : 동적타이핑\n",
        "#   - 컬렉션 : 식별자 1개, 데이터 n개 : CRUD : list, tuple, dict, set\n",
        "#       - create : list([]), tuple(()), dict({}), set(set())\n",
        "#       - read : masking : data[] : [idx], [key], [start:end], [start:end:stride]\n",
        "#       - update : 데이터선택 = 수정할데이터\n",
        "#       - delete : del 데이터선택\n",
        "#   - print(데이터), type(테이터타입), id(주소값), sys.getsizeof(데이터사이즈)\n",
        "#   - 얕은복사(주소복사), 깊은복사(데이터복사:data.copy())\n",
        "# 3. 연산자 : CPU 사용 방법\n",
        "#   - 산술 : 데이터 + 데이터 = 데이터 : +, - < *, /, //, % < **\n",
        "#   - 할당 : 식별자 <산술>= 데이터\n",
        "#   - 비교 : 데이터 + 데이터 = 논리값 : ==, !=, >, <, >=, <= : 조건 1개\n",
        "#   - 논리 : 논리값 + 논리값 = 논리값 : not, and(T) > or(F) : 조건 2개 이상\n",
        "#   - 멤버 : 컬렉션 데이터에 특정 데이터가 있는지 확인 : in, not in\n",
        "#   - 산술 > 비교 > 논리 > 멤버"
      ],
      "metadata": {
        "id": "xcCyTt4ye3cm"
      },
      "execution_count": null,
      "outputs": []
    },
    {
      "cell_type": "code",
      "source": [
        "# input(): 키보드로 입력한 결과를 변수에 저장: str\n",
        "question = input('질문을 입력하세요: ')\n",
        "question"
      ],
      "metadata": {
        "colab": {
          "base_uri": "https://localhost:8080/",
          "height": 54
        },
        "id": "-6PwcWCmhE6t",
        "outputId": "23897ac1-042c-49b5-b813-36fc0fd59f77"
      },
      "execution_count": 4,
      "outputs": [
        {
          "name": "stdout",
          "output_type": "stream",
          "text": [
            "질문을 입력하세요: 파이썬?\n"
          ]
        },
        {
          "output_type": "execute_result",
          "data": {
            "text/plain": [
              "'파이썬?'"
            ],
            "application/vnd.google.colaboratory.intrinsic+json": {
              "type": "string"
            }
          },
          "metadata": {},
          "execution_count": 4
        }
      ]
    },
    {
      "cell_type": "code",
      "source": [
        "# random.randint(): 랜덤한 숫자 출력\n",
        "import random\n",
        "idx = random.randint(0, 2) # 0 or 1 or 2\n",
        "idx"
      ],
      "metadata": {
        "colab": {
          "base_uri": "https://localhost:8080/"
        },
        "id": "fAfisdZ2ksX9",
        "outputId": "6716a161-1ee2-4494-da84-7d767e55f570"
      },
      "execution_count": 5,
      "outputs": [
        {
          "output_type": "execute_result",
          "data": {
            "text/plain": [
              "0"
            ]
          },
          "metadata": {},
          "execution_count": 5
        }
      ]
    },
    {
      "cell_type": "code",
      "source": [
        "# 해결의 책\n",
        "# 1. 답변 리스트: create list\n",
        "answers = [\n",
        "    '원하는 대로 잘 이루어질 것이다.',\n",
        "    '무엇을 상상하던 그 이상으로 좋을 것이다.',\n",
        "    '생각한대로 되지 않을 것이다.'\n",
        "]\n",
        "\n",
        "# 2. 질문 받기: input()\n",
        "question = input('질문을 입력하세요: ')\n",
        "\n",
        "# 3. 랜덤한 숫자 출력: random.randint()\n",
        "idx = random.randint(0, 2)\n",
        "\n",
        "# 4. 랜덤한 숫자에 해당하는 답변 출력: masking data(index)\n",
        "answers[idx]"
      ],
      "metadata": {
        "colab": {
          "base_uri": "https://localhost:8080/",
          "height": 54
        },
        "id": "PZUy5ChqlAda",
        "outputId": "a7c6761d-75d3-4ec1-d6de-91e80e750095"
      },
      "execution_count": 6,
      "outputs": [
        {
          "name": "stdout",
          "output_type": "stream",
          "text": [
            "질문을 입력하세요: 육아를 잘 할 수 있을까요?\n"
          ]
        },
        {
          "output_type": "execute_result",
          "data": {
            "text/plain": [
              "'무엇을 상상하던 그 이상으로 좋을 것이다.'"
            ],
            "application/vnd.google.colaboratory.intrinsic+json": {
              "type": "string"
            }
          },
          "metadata": {},
          "execution_count": 6
        }
      ]
    },
    {
      "cell_type": "code",
      "source": [
        "lotto = []\n",
        "while True:\n",
        "  random_number = random.randint(1, 45)\n",
        "  if random_number not in lotto:\n",
        "    lotto.append(random_number) # 또는 lotto = list(set(lotto))\n",
        "  if len(lotto) >= 6:\n",
        "    break\n",
        "\n",
        "lotto.sort() # 리스트 정렬\n",
        "print(lotto)"
      ],
      "metadata": {
        "colab": {
          "base_uri": "https://localhost:8080/"
        },
        "id": "CzQWvp8Qmd2n",
        "outputId": "aa190490-7ff5-418a-d467-d815cc819f5b"
      },
      "execution_count": 8,
      "outputs": [
        {
          "output_type": "stream",
          "name": "stdout",
          "text": [
            "[8, 10, 19, 22, 36, 42]\n"
          ]
        }
      ]
    },
    {
      "cell_type": "code",
      "source": [
        "import pandas as pd"
      ],
      "metadata": {
        "id": "J-vMjONXvUEG"
      },
      "execution_count": 9,
      "outputs": []
    },
    {
      "cell_type": "code",
      "source": [
        "# 1. 데이터로드\n",
        "data = pd.read_excel('/content/drive/MyDrive/01_python-20230313T001604Z-001/01_python/data/stock.xlsx')\n",
        "data.tail(2)"
      ],
      "metadata": {
        "colab": {
          "base_uri": "https://localhost:8080/",
          "height": 112
        },
        "id": "22Z0VOhiyrZ9",
        "outputId": "caea1b4a-ea1b-44ed-f2e1-3c79cdf6b6c6"
      },
      "execution_count": 11,
      "outputs": [
        {
          "output_type": "execute_result",
          "data": {
            "text/plain": [
              "          date    kospi     usd\n",
              "58  2022-04-19  2718.89  1239.5\n",
              "59  2022-04-18  2693.21  1235.0"
            ],
            "text/html": [
              "\n",
              "  <div id=\"df-2310194e-281e-45d6-bf15-4c470c0a2db6\">\n",
              "    <div class=\"colab-df-container\">\n",
              "      <div>\n",
              "<style scoped>\n",
              "    .dataframe tbody tr th:only-of-type {\n",
              "        vertical-align: middle;\n",
              "    }\n",
              "\n",
              "    .dataframe tbody tr th {\n",
              "        vertical-align: top;\n",
              "    }\n",
              "\n",
              "    .dataframe thead th {\n",
              "        text-align: right;\n",
              "    }\n",
              "</style>\n",
              "<table border=\"1\" class=\"dataframe\">\n",
              "  <thead>\n",
              "    <tr style=\"text-align: right;\">\n",
              "      <th></th>\n",
              "      <th>date</th>\n",
              "      <th>kospi</th>\n",
              "      <th>usd</th>\n",
              "    </tr>\n",
              "  </thead>\n",
              "  <tbody>\n",
              "    <tr>\n",
              "      <th>58</th>\n",
              "      <td>2022-04-19</td>\n",
              "      <td>2718.89</td>\n",
              "      <td>1239.5</td>\n",
              "    </tr>\n",
              "    <tr>\n",
              "      <th>59</th>\n",
              "      <td>2022-04-18</td>\n",
              "      <td>2693.21</td>\n",
              "      <td>1235.0</td>\n",
              "    </tr>\n",
              "  </tbody>\n",
              "</table>\n",
              "</div>\n",
              "      <button class=\"colab-df-convert\" onclick=\"convertToInteractive('df-2310194e-281e-45d6-bf15-4c470c0a2db6')\"\n",
              "              title=\"Convert this dataframe to an interactive table.\"\n",
              "              style=\"display:none;\">\n",
              "        \n",
              "  <svg xmlns=\"http://www.w3.org/2000/svg\" height=\"24px\"viewBox=\"0 0 24 24\"\n",
              "       width=\"24px\">\n",
              "    <path d=\"M0 0h24v24H0V0z\" fill=\"none\"/>\n",
              "    <path d=\"M18.56 5.44l.94 2.06.94-2.06 2.06-.94-2.06-.94-.94-2.06-.94 2.06-2.06.94zm-11 1L8.5 8.5l.94-2.06 2.06-.94-2.06-.94L8.5 2.5l-.94 2.06-2.06.94zm10 10l.94 2.06.94-2.06 2.06-.94-2.06-.94-.94-2.06-.94 2.06-2.06.94z\"/><path d=\"M17.41 7.96l-1.37-1.37c-.4-.4-.92-.59-1.43-.59-.52 0-1.04.2-1.43.59L10.3 9.45l-7.72 7.72c-.78.78-.78 2.05 0 2.83L4 21.41c.39.39.9.59 1.41.59.51 0 1.02-.2 1.41-.59l7.78-7.78 2.81-2.81c.8-.78.8-2.07 0-2.86zM5.41 20L4 18.59l7.72-7.72 1.47 1.35L5.41 20z\"/>\n",
              "  </svg>\n",
              "      </button>\n",
              "      \n",
              "  <style>\n",
              "    .colab-df-container {\n",
              "      display:flex;\n",
              "      flex-wrap:wrap;\n",
              "      gap: 12px;\n",
              "    }\n",
              "\n",
              "    .colab-df-convert {\n",
              "      background-color: #E8F0FE;\n",
              "      border: none;\n",
              "      border-radius: 50%;\n",
              "      cursor: pointer;\n",
              "      display: none;\n",
              "      fill: #1967D2;\n",
              "      height: 32px;\n",
              "      padding: 0 0 0 0;\n",
              "      width: 32px;\n",
              "    }\n",
              "\n",
              "    .colab-df-convert:hover {\n",
              "      background-color: #E2EBFA;\n",
              "      box-shadow: 0px 1px 2px rgba(60, 64, 67, 0.3), 0px 1px 3px 1px rgba(60, 64, 67, 0.15);\n",
              "      fill: #174EA6;\n",
              "    }\n",
              "\n",
              "    [theme=dark] .colab-df-convert {\n",
              "      background-color: #3B4455;\n",
              "      fill: #D2E3FC;\n",
              "    }\n",
              "\n",
              "    [theme=dark] .colab-df-convert:hover {\n",
              "      background-color: #434B5C;\n",
              "      box-shadow: 0px 1px 3px 1px rgba(0, 0, 0, 0.15);\n",
              "      filter: drop-shadow(0px 1px 2px rgba(0, 0, 0, 0.3));\n",
              "      fill: #FFFFFF;\n",
              "    }\n",
              "  </style>\n",
              "\n",
              "      <script>\n",
              "        const buttonEl =\n",
              "          document.querySelector('#df-2310194e-281e-45d6-bf15-4c470c0a2db6 button.colab-df-convert');\n",
              "        buttonEl.style.display =\n",
              "          google.colab.kernel.accessAllowed ? 'block' : 'none';\n",
              "\n",
              "        async function convertToInteractive(key) {\n",
              "          const element = document.querySelector('#df-2310194e-281e-45d6-bf15-4c470c0a2db6');\n",
              "          const dataTable =\n",
              "            await google.colab.kernel.invokeFunction('convertToInteractive',\n",
              "                                                     [key], {});\n",
              "          if (!dataTable) return;\n",
              "\n",
              "          const docLinkHtml = 'Like what you see? Visit the ' +\n",
              "            '<a target=\"_blank\" href=https://colab.research.google.com/notebooks/data_table.ipynb>data table notebook</a>'\n",
              "            + ' to learn more about interactive tables.';\n",
              "          element.innerHTML = '';\n",
              "          dataTable['output_type'] = 'display_data';\n",
              "          await google.colab.output.renderOutput(dataTable, element);\n",
              "          const docLink = document.createElement('div');\n",
              "          docLink.innerHTML = docLinkHtml;\n",
              "          element.appendChild(docLink);\n",
              "        }\n",
              "      </script>\n",
              "    </div>\n",
              "  </div>\n",
              "  "
            ]
          },
          "metadata": {},
          "execution_count": 11
        }
      ]
    },
    {
      "cell_type": "code",
      "source": [
        "# 데이터분석\n",
        "# 원달러환율이 높으면 주가가 하락, 원달러환율이 낮으면 주가가 상승\n",
        "# 원달러환율과 주가는 반대로 움직인다\n",
        "# 상관계수: 두개의 데이터 집합의 관계를 수치화(1: 강한 양의 상관관계, -1: 강한 음의 상관관계, 0: 관계 없음)\n",
        "data.corr()"
      ],
      "metadata": {
        "colab": {
          "base_uri": "https://localhost:8080/",
          "height": 112
        },
        "id": "xCmhnawHy62W",
        "outputId": "d7989d0b-b3ac-4740-c649-f00fceec699a"
      },
      "execution_count": 12,
      "outputs": [
        {
          "output_type": "execute_result",
          "data": {
            "text/plain": [
              "          kospi       usd\n",
              "kospi  1.000000 -0.906453\n",
              "usd   -0.906453  1.000000"
            ],
            "text/html": [
              "\n",
              "  <div id=\"df-ca6012a1-c7fe-4926-94a7-2064d939294c\">\n",
              "    <div class=\"colab-df-container\">\n",
              "      <div>\n",
              "<style scoped>\n",
              "    .dataframe tbody tr th:only-of-type {\n",
              "        vertical-align: middle;\n",
              "    }\n",
              "\n",
              "    .dataframe tbody tr th {\n",
              "        vertical-align: top;\n",
              "    }\n",
              "\n",
              "    .dataframe thead th {\n",
              "        text-align: right;\n",
              "    }\n",
              "</style>\n",
              "<table border=\"1\" class=\"dataframe\">\n",
              "  <thead>\n",
              "    <tr style=\"text-align: right;\">\n",
              "      <th></th>\n",
              "      <th>kospi</th>\n",
              "      <th>usd</th>\n",
              "    </tr>\n",
              "  </thead>\n",
              "  <tbody>\n",
              "    <tr>\n",
              "      <th>kospi</th>\n",
              "      <td>1.000000</td>\n",
              "      <td>-0.906453</td>\n",
              "    </tr>\n",
              "    <tr>\n",
              "      <th>usd</th>\n",
              "      <td>-0.906453</td>\n",
              "      <td>1.000000</td>\n",
              "    </tr>\n",
              "  </tbody>\n",
              "</table>\n",
              "</div>\n",
              "      <button class=\"colab-df-convert\" onclick=\"convertToInteractive('df-ca6012a1-c7fe-4926-94a7-2064d939294c')\"\n",
              "              title=\"Convert this dataframe to an interactive table.\"\n",
              "              style=\"display:none;\">\n",
              "        \n",
              "  <svg xmlns=\"http://www.w3.org/2000/svg\" height=\"24px\"viewBox=\"0 0 24 24\"\n",
              "       width=\"24px\">\n",
              "    <path d=\"M0 0h24v24H0V0z\" fill=\"none\"/>\n",
              "    <path d=\"M18.56 5.44l.94 2.06.94-2.06 2.06-.94-2.06-.94-.94-2.06-.94 2.06-2.06.94zm-11 1L8.5 8.5l.94-2.06 2.06-.94-2.06-.94L8.5 2.5l-.94 2.06-2.06.94zm10 10l.94 2.06.94-2.06 2.06-.94-2.06-.94-.94-2.06-.94 2.06-2.06.94z\"/><path d=\"M17.41 7.96l-1.37-1.37c-.4-.4-.92-.59-1.43-.59-.52 0-1.04.2-1.43.59L10.3 9.45l-7.72 7.72c-.78.78-.78 2.05 0 2.83L4 21.41c.39.39.9.59 1.41.59.51 0 1.02-.2 1.41-.59l7.78-7.78 2.81-2.81c.8-.78.8-2.07 0-2.86zM5.41 20L4 18.59l7.72-7.72 1.47 1.35L5.41 20z\"/>\n",
              "  </svg>\n",
              "      </button>\n",
              "      \n",
              "  <style>\n",
              "    .colab-df-container {\n",
              "      display:flex;\n",
              "      flex-wrap:wrap;\n",
              "      gap: 12px;\n",
              "    }\n",
              "\n",
              "    .colab-df-convert {\n",
              "      background-color: #E8F0FE;\n",
              "      border: none;\n",
              "      border-radius: 50%;\n",
              "      cursor: pointer;\n",
              "      display: none;\n",
              "      fill: #1967D2;\n",
              "      height: 32px;\n",
              "      padding: 0 0 0 0;\n",
              "      width: 32px;\n",
              "    }\n",
              "\n",
              "    .colab-df-convert:hover {\n",
              "      background-color: #E2EBFA;\n",
              "      box-shadow: 0px 1px 2px rgba(60, 64, 67, 0.3), 0px 1px 3px 1px rgba(60, 64, 67, 0.15);\n",
              "      fill: #174EA6;\n",
              "    }\n",
              "\n",
              "    [theme=dark] .colab-df-convert {\n",
              "      background-color: #3B4455;\n",
              "      fill: #D2E3FC;\n",
              "    }\n",
              "\n",
              "    [theme=dark] .colab-df-convert:hover {\n",
              "      background-color: #434B5C;\n",
              "      box-shadow: 0px 1px 3px 1px rgba(0, 0, 0, 0.15);\n",
              "      filter: drop-shadow(0px 1px 2px rgba(0, 0, 0, 0.3));\n",
              "      fill: #FFFFFF;\n",
              "    }\n",
              "  </style>\n",
              "\n",
              "      <script>\n",
              "        const buttonEl =\n",
              "          document.querySelector('#df-ca6012a1-c7fe-4926-94a7-2064d939294c button.colab-df-convert');\n",
              "        buttonEl.style.display =\n",
              "          google.colab.kernel.accessAllowed ? 'block' : 'none';\n",
              "\n",
              "        async function convertToInteractive(key) {\n",
              "          const element = document.querySelector('#df-ca6012a1-c7fe-4926-94a7-2064d939294c');\n",
              "          const dataTable =\n",
              "            await google.colab.kernel.invokeFunction('convertToInteractive',\n",
              "                                                     [key], {});\n",
              "          if (!dataTable) return;\n",
              "\n",
              "          const docLinkHtml = 'Like what you see? Visit the ' +\n",
              "            '<a target=\"_blank\" href=https://colab.research.google.com/notebooks/data_table.ipynb>data table notebook</a>'\n",
              "            + ' to learn more about interactive tables.';\n",
              "          element.innerHTML = '';\n",
              "          dataTable['output_type'] = 'display_data';\n",
              "          await google.colab.output.renderOutput(dataTable, element);\n",
              "          const docLink = document.createElement('div');\n",
              "          docLink.innerHTML = docLinkHtml;\n",
              "          element.appendChild(docLink);\n",
              "        }\n",
              "      </script>\n",
              "    </div>\n",
              "  </div>\n",
              "  "
            ]
          },
          "metadata": {},
          "execution_count": 12
        }
      ]
    },
    {
      "cell_type": "code",
      "source": [
        "# count: 특정지역 영업점 평균 고객 미팅 횟수\n",
        "# time: 특정지역 영업점 평균 고객 미팅 시간\n",
        "# 영업전략: 고객미팅 횟수를 증가하는게 좋은지 OR 고객미팅 시간을 증가하는게 좋은지\n",
        "data = pd.read_excel('/content/drive/MyDrive/01_python-20230313T001604Z-001/01_python/data/data.xlsx')\n",
        "data.tail(2)"
      ],
      "metadata": {
        "colab": {
          "base_uri": "https://localhost:8080/",
          "height": 112
        },
        "id": "Tl2H4S-R0Zx5",
        "outputId": "d129e2d8-5c3c-4d92-a606-46f3de637948"
      },
      "execution_count": 13,
      "outputs": [
        {
          "output_type": "execute_result",
          "data": {
            "text/plain": [
              "     count  time  sales\n",
              "198  283.6  66.2   25.5\n",
              "199  232.1   8.7   13.4"
            ],
            "text/html": [
              "\n",
              "  <div id=\"df-b01895af-16ce-44da-87c6-f2f53d3347f8\">\n",
              "    <div class=\"colab-df-container\">\n",
              "      <div>\n",
              "<style scoped>\n",
              "    .dataframe tbody tr th:only-of-type {\n",
              "        vertical-align: middle;\n",
              "    }\n",
              "\n",
              "    .dataframe tbody tr th {\n",
              "        vertical-align: top;\n",
              "    }\n",
              "\n",
              "    .dataframe thead th {\n",
              "        text-align: right;\n",
              "    }\n",
              "</style>\n",
              "<table border=\"1\" class=\"dataframe\">\n",
              "  <thead>\n",
              "    <tr style=\"text-align: right;\">\n",
              "      <th></th>\n",
              "      <th>count</th>\n",
              "      <th>time</th>\n",
              "      <th>sales</th>\n",
              "    </tr>\n",
              "  </thead>\n",
              "  <tbody>\n",
              "    <tr>\n",
              "      <th>198</th>\n",
              "      <td>283.6</td>\n",
              "      <td>66.2</td>\n",
              "      <td>25.5</td>\n",
              "    </tr>\n",
              "    <tr>\n",
              "      <th>199</th>\n",
              "      <td>232.1</td>\n",
              "      <td>8.7</td>\n",
              "      <td>13.4</td>\n",
              "    </tr>\n",
              "  </tbody>\n",
              "</table>\n",
              "</div>\n",
              "      <button class=\"colab-df-convert\" onclick=\"convertToInteractive('df-b01895af-16ce-44da-87c6-f2f53d3347f8')\"\n",
              "              title=\"Convert this dataframe to an interactive table.\"\n",
              "              style=\"display:none;\">\n",
              "        \n",
              "  <svg xmlns=\"http://www.w3.org/2000/svg\" height=\"24px\"viewBox=\"0 0 24 24\"\n",
              "       width=\"24px\">\n",
              "    <path d=\"M0 0h24v24H0V0z\" fill=\"none\"/>\n",
              "    <path d=\"M18.56 5.44l.94 2.06.94-2.06 2.06-.94-2.06-.94-.94-2.06-.94 2.06-2.06.94zm-11 1L8.5 8.5l.94-2.06 2.06-.94-2.06-.94L8.5 2.5l-.94 2.06-2.06.94zm10 10l.94 2.06.94-2.06 2.06-.94-2.06-.94-.94-2.06-.94 2.06-2.06.94z\"/><path d=\"M17.41 7.96l-1.37-1.37c-.4-.4-.92-.59-1.43-.59-.52 0-1.04.2-1.43.59L10.3 9.45l-7.72 7.72c-.78.78-.78 2.05 0 2.83L4 21.41c.39.39.9.59 1.41.59.51 0 1.02-.2 1.41-.59l7.78-7.78 2.81-2.81c.8-.78.8-2.07 0-2.86zM5.41 20L4 18.59l7.72-7.72 1.47 1.35L5.41 20z\"/>\n",
              "  </svg>\n",
              "      </button>\n",
              "      \n",
              "  <style>\n",
              "    .colab-df-container {\n",
              "      display:flex;\n",
              "      flex-wrap:wrap;\n",
              "      gap: 12px;\n",
              "    }\n",
              "\n",
              "    .colab-df-convert {\n",
              "      background-color: #E8F0FE;\n",
              "      border: none;\n",
              "      border-radius: 50%;\n",
              "      cursor: pointer;\n",
              "      display: none;\n",
              "      fill: #1967D2;\n",
              "      height: 32px;\n",
              "      padding: 0 0 0 0;\n",
              "      width: 32px;\n",
              "    }\n",
              "\n",
              "    .colab-df-convert:hover {\n",
              "      background-color: #E2EBFA;\n",
              "      box-shadow: 0px 1px 2px rgba(60, 64, 67, 0.3), 0px 1px 3px 1px rgba(60, 64, 67, 0.15);\n",
              "      fill: #174EA6;\n",
              "    }\n",
              "\n",
              "    [theme=dark] .colab-df-convert {\n",
              "      background-color: #3B4455;\n",
              "      fill: #D2E3FC;\n",
              "    }\n",
              "\n",
              "    [theme=dark] .colab-df-convert:hover {\n",
              "      background-color: #434B5C;\n",
              "      box-shadow: 0px 1px 3px 1px rgba(0, 0, 0, 0.15);\n",
              "      filter: drop-shadow(0px 1px 2px rgba(0, 0, 0, 0.3));\n",
              "      fill: #FFFFFF;\n",
              "    }\n",
              "  </style>\n",
              "\n",
              "      <script>\n",
              "        const buttonEl =\n",
              "          document.querySelector('#df-b01895af-16ce-44da-87c6-f2f53d3347f8 button.colab-df-convert');\n",
              "        buttonEl.style.display =\n",
              "          google.colab.kernel.accessAllowed ? 'block' : 'none';\n",
              "\n",
              "        async function convertToInteractive(key) {\n",
              "          const element = document.querySelector('#df-b01895af-16ce-44da-87c6-f2f53d3347f8');\n",
              "          const dataTable =\n",
              "            await google.colab.kernel.invokeFunction('convertToInteractive',\n",
              "                                                     [key], {});\n",
              "          if (!dataTable) return;\n",
              "\n",
              "          const docLinkHtml = 'Like what you see? Visit the ' +\n",
              "            '<a target=\"_blank\" href=https://colab.research.google.com/notebooks/data_table.ipynb>data table notebook</a>'\n",
              "            + ' to learn more about interactive tables.';\n",
              "          element.innerHTML = '';\n",
              "          dataTable['output_type'] = 'display_data';\n",
              "          await google.colab.output.renderOutput(dataTable, element);\n",
              "          const docLink = document.createElement('div');\n",
              "          docLink.innerHTML = docLinkHtml;\n",
              "          element.appendChild(docLink);\n",
              "        }\n",
              "      </script>\n",
              "    </div>\n",
              "  </div>\n",
              "  "
            ]
          },
          "metadata": {},
          "execution_count": 13
        }
      ]
    },
    {
      "cell_type": "code",
      "source": [
        "# 한 명의 고객을 오래 미팅하는 것보다, 최대한 많은 고객을 만나는게 효과적\n",
        "data.corr()"
      ],
      "metadata": {
        "colab": {
          "base_uri": "https://localhost:8080/",
          "height": 143
        },
        "id": "CC3DimpR0yc0",
        "outputId": "a152ba63-9600-400d-ebf1-545367145ef8"
      },
      "execution_count": 14,
      "outputs": [
        {
          "output_type": "execute_result",
          "data": {
            "text/plain": [
              "          count      time     sales\n",
              "count  1.000000  0.056648  0.782224\n",
              "time   0.056648  1.000000  0.228299\n",
              "sales  0.782224  0.228299  1.000000"
            ],
            "text/html": [
              "\n",
              "  <div id=\"df-2a3e9888-9b39-4c30-9904-9eadea3facfb\">\n",
              "    <div class=\"colab-df-container\">\n",
              "      <div>\n",
              "<style scoped>\n",
              "    .dataframe tbody tr th:only-of-type {\n",
              "        vertical-align: middle;\n",
              "    }\n",
              "\n",
              "    .dataframe tbody tr th {\n",
              "        vertical-align: top;\n",
              "    }\n",
              "\n",
              "    .dataframe thead th {\n",
              "        text-align: right;\n",
              "    }\n",
              "</style>\n",
              "<table border=\"1\" class=\"dataframe\">\n",
              "  <thead>\n",
              "    <tr style=\"text-align: right;\">\n",
              "      <th></th>\n",
              "      <th>count</th>\n",
              "      <th>time</th>\n",
              "      <th>sales</th>\n",
              "    </tr>\n",
              "  </thead>\n",
              "  <tbody>\n",
              "    <tr>\n",
              "      <th>count</th>\n",
              "      <td>1.000000</td>\n",
              "      <td>0.056648</td>\n",
              "      <td>0.782224</td>\n",
              "    </tr>\n",
              "    <tr>\n",
              "      <th>time</th>\n",
              "      <td>0.056648</td>\n",
              "      <td>1.000000</td>\n",
              "      <td>0.228299</td>\n",
              "    </tr>\n",
              "    <tr>\n",
              "      <th>sales</th>\n",
              "      <td>0.782224</td>\n",
              "      <td>0.228299</td>\n",
              "      <td>1.000000</td>\n",
              "    </tr>\n",
              "  </tbody>\n",
              "</table>\n",
              "</div>\n",
              "      <button class=\"colab-df-convert\" onclick=\"convertToInteractive('df-2a3e9888-9b39-4c30-9904-9eadea3facfb')\"\n",
              "              title=\"Convert this dataframe to an interactive table.\"\n",
              "              style=\"display:none;\">\n",
              "        \n",
              "  <svg xmlns=\"http://www.w3.org/2000/svg\" height=\"24px\"viewBox=\"0 0 24 24\"\n",
              "       width=\"24px\">\n",
              "    <path d=\"M0 0h24v24H0V0z\" fill=\"none\"/>\n",
              "    <path d=\"M18.56 5.44l.94 2.06.94-2.06 2.06-.94-2.06-.94-.94-2.06-.94 2.06-2.06.94zm-11 1L8.5 8.5l.94-2.06 2.06-.94-2.06-.94L8.5 2.5l-.94 2.06-2.06.94zm10 10l.94 2.06.94-2.06 2.06-.94-2.06-.94-.94-2.06-.94 2.06-2.06.94z\"/><path d=\"M17.41 7.96l-1.37-1.37c-.4-.4-.92-.59-1.43-.59-.52 0-1.04.2-1.43.59L10.3 9.45l-7.72 7.72c-.78.78-.78 2.05 0 2.83L4 21.41c.39.39.9.59 1.41.59.51 0 1.02-.2 1.41-.59l7.78-7.78 2.81-2.81c.8-.78.8-2.07 0-2.86zM5.41 20L4 18.59l7.72-7.72 1.47 1.35L5.41 20z\"/>\n",
              "  </svg>\n",
              "      </button>\n",
              "      \n",
              "  <style>\n",
              "    .colab-df-container {\n",
              "      display:flex;\n",
              "      flex-wrap:wrap;\n",
              "      gap: 12px;\n",
              "    }\n",
              "\n",
              "    .colab-df-convert {\n",
              "      background-color: #E8F0FE;\n",
              "      border: none;\n",
              "      border-radius: 50%;\n",
              "      cursor: pointer;\n",
              "      display: none;\n",
              "      fill: #1967D2;\n",
              "      height: 32px;\n",
              "      padding: 0 0 0 0;\n",
              "      width: 32px;\n",
              "    }\n",
              "\n",
              "    .colab-df-convert:hover {\n",
              "      background-color: #E2EBFA;\n",
              "      box-shadow: 0px 1px 2px rgba(60, 64, 67, 0.3), 0px 1px 3px 1px rgba(60, 64, 67, 0.15);\n",
              "      fill: #174EA6;\n",
              "    }\n",
              "\n",
              "    [theme=dark] .colab-df-convert {\n",
              "      background-color: #3B4455;\n",
              "      fill: #D2E3FC;\n",
              "    }\n",
              "\n",
              "    [theme=dark] .colab-df-convert:hover {\n",
              "      background-color: #434B5C;\n",
              "      box-shadow: 0px 1px 3px 1px rgba(0, 0, 0, 0.15);\n",
              "      filter: drop-shadow(0px 1px 2px rgba(0, 0, 0, 0.3));\n",
              "      fill: #FFFFFF;\n",
              "    }\n",
              "  </style>\n",
              "\n",
              "      <script>\n",
              "        const buttonEl =\n",
              "          document.querySelector('#df-2a3e9888-9b39-4c30-9904-9eadea3facfb button.colab-df-convert');\n",
              "        buttonEl.style.display =\n",
              "          google.colab.kernel.accessAllowed ? 'block' : 'none';\n",
              "\n",
              "        async function convertToInteractive(key) {\n",
              "          const element = document.querySelector('#df-2a3e9888-9b39-4c30-9904-9eadea3facfb');\n",
              "          const dataTable =\n",
              "            await google.colab.kernel.invokeFunction('convertToInteractive',\n",
              "                                                     [key], {});\n",
              "          if (!dataTable) return;\n",
              "\n",
              "          const docLinkHtml = 'Like what you see? Visit the ' +\n",
              "            '<a target=\"_blank\" href=https://colab.research.google.com/notebooks/data_table.ipynb>data table notebook</a>'\n",
              "            + ' to learn more about interactive tables.';\n",
              "          element.innerHTML = '';\n",
              "          dataTable['output_type'] = 'display_data';\n",
              "          await google.colab.output.renderOutput(dataTable, element);\n",
              "          const docLink = document.createElement('div');\n",
              "          docLink.innerHTML = docLinkHtml;\n",
              "          element.appendChild(docLink);\n",
              "        }\n",
              "      </script>\n",
              "    </div>\n",
              "  </div>\n",
              "  "
            ]
          },
          "metadata": {},
          "execution_count": 14
        }
      ]
    },
    {
      "cell_type": "code",
      "source": [
        "# 6. 함수\n",
        "# 중복된 코드를 묶어서 코드를 작성 및 실행: 코드 유지보수 향상\n",
        "# 사용법: 함수선언(코드 작성) > 함수호출(코드 실행)\n",
        "\n",
        "# 함수 선언(코드작성)\n",
        "def disp_lotto():\n",
        "  lotto = []\n",
        "  while True: # 블록설정 > shift + tab: 앞으로 이동\n",
        "      random_number = random.randint(1, 45)\n",
        "      lotto.append(random_number)\n",
        "      lotto = list(set(lotto))\n",
        "      if len(lotto) >= 7:\n",
        "          break\n",
        "  print(lotto)"
      ],
      "metadata": {
        "id": "0ADO8Ly51g2y"
      },
      "execution_count": 17,
      "outputs": []
    },
    {
      "cell_type": "code",
      "source": [
        "# 함수 호출(코드실행)\n",
        "disp_lotto()"
      ],
      "metadata": {
        "colab": {
          "base_uri": "https://localhost:8080/"
        },
        "id": "6rYvqcA27Lw3",
        "outputId": "489cd9d2-ee11-4e90-9b8f-8d8c1e9de0d7"
      },
      "execution_count": 18,
      "outputs": [
        {
          "output_type": "stream",
          "name": "stdout",
          "text": [
            "[5, 8, 9, 12, 44, 21, 30]\n"
          ]
        }
      ]
    },
    {
      "cell_type": "code",
      "source": [
        "# parameter, argument: 함수를 호출할 때 함수를 선언하는 부분으로 데이터 전달\n",
        "# 로또번호 6개 출력\n",
        "# 로또번호 7개 출력\n",
        "def disp_lotto(count): # count: parameter\n",
        "  lotto = []\n",
        "  while True: \n",
        "      random_number = random.randint(1, 45)\n",
        "      lotto.append(random_number)\n",
        "      lotto = list(set(lotto))\n",
        "      if len(lotto) >= count:\n",
        "          break\n",
        "  print(lotto)\n",
        "\n",
        "disp_lotto(6) # 6: argument\n",
        "disp_lotto(7)\n"
      ],
      "metadata": {
        "colab": {
          "base_uri": "https://localhost:8080/"
        },
        "id": "zSam8f3s7ZA8",
        "outputId": "97939fad-47c0-4b6f-9a04-ead0c4bf89a7"
      },
      "execution_count": 19,
      "outputs": [
        {
          "output_type": "stream",
          "name": "stdout",
          "text": [
            "[6, 15, 18, 20, 22, 23]\n",
            "[33, 2, 5, 7, 43, 19, 21]\n"
          ]
        }
      ]
    },
    {
      "cell_type": "code",
      "source": [
        "# parameter 2개인데 argument 하나이면 error 발생 > default 값 설정하면 argument 하나이든 두개이든 ok\n",
        "def plus(n1, n2=10, n3=30): # n2=10: default paramenter\n",
        "  print(n1 + n2 + n3)\n",
        "\n",
        "plus(1,n3=100) # n3=100: keyword argument"
      ],
      "metadata": {
        "colab": {
          "base_uri": "https://localhost:8080/"
        },
        "id": "C7VeJ9kw9V0f",
        "outputId": "2e637f27-ca28-4c93-bdc6-7c133226e638"
      },
      "execution_count": 22,
      "outputs": [
        {
          "output_type": "stream",
          "name": "stdout",
          "text": [
            "111\n"
          ]
        }
      ]
    },
    {
      "cell_type": "code",
      "source": [
        "# help(): 함수 설명글(docstring) 출력\n",
        "# print도 default parameter를 사용하고 있다\n",
        "help(print)"
      ],
      "metadata": {
        "colab": {
          "base_uri": "https://localhost:8080/"
        },
        "id": "zcQJWB5f-WsP",
        "outputId": "edd97f34-8f9f-4980-b7bb-d98f2a1641c8"
      },
      "execution_count": 23,
      "outputs": [
        {
          "output_type": "stream",
          "name": "stdout",
          "text": [
            "Help on built-in function print in module builtins:\n",
            "\n",
            "print(...)\n",
            "    print(value, ..., sep=' ', end='\\n', file=sys.stdout, flush=False)\n",
            "    \n",
            "    Prints the values to a stream, or to sys.stdout by default.\n",
            "    Optional keyword arguments:\n",
            "    file:  a file-like object (stream); defaults to the current sys.stdout.\n",
            "    sep:   string inserted between values, default a space.\n",
            "    end:   string appended after the last value, default a newline.\n",
            "    flush: whether to forcibly flush the stream.\n",
            "\n"
          ]
        }
      ]
    },
    {
      "cell_type": "code",
      "source": [
        "print('A', 'B', sep=', ', end='\\t' )\n",
        "print('C')"
      ],
      "metadata": {
        "colab": {
          "base_uri": "https://localhost:8080/"
        },
        "id": "mC6HG0QD_pkF",
        "outputId": "705ea623-c5e1-45e0-f685-5bc9348df7f8"
      },
      "execution_count": 25,
      "outputs": [
        {
          "output_type": "stream",
          "name": "stdout",
          "text": [
            "A, B\tC\n"
          ]
        }
      ]
    },
    {
      "cell_type": "code",
      "source": [
        "# 멀티라인 문자열\n",
        "data = '''\n",
        "파이썬\n",
        "데이터분석\n",
        "'''\n",
        "\n",
        "print(data)"
      ],
      "metadata": {
        "colab": {
          "base_uri": "https://localhost:8080/"
        },
        "id": "L8IqX4j7AWiy",
        "outputId": "3b9bd407-5f50-4ef4-8da8-702113ee9857"
      },
      "execution_count": 26,
      "outputs": [
        {
          "output_type": "stream",
          "name": "stdout",
          "text": [
            "\n",
            "파이썬\n",
            "데이터분석\n",
            "\n"
          ]
        }
      ]
    },
    {
      "cell_type": "code",
      "source": [
        "#argument의 갯수에 상관 없이 함수 실행하는 방법\n",
        "# *args (argument: 키워드가 없는 아규먼트 여러개를 받아줌), **kwargs (keyword argument: 키워드가 있는 아규먼트 여러개를 받아줌)\n",
        "# 아규먼트 여러개 > 파라미터 1개: 컬렉션 데이터타입(tuple, dict)\n",
        "def plus(*args):\n",
        "    print(type(args), args)\n",
        "\n",
        "plus(1, 2, 3, 4)"
      ],
      "metadata": {
        "colab": {
          "base_uri": "https://localhost:8080/"
        },
        "id": "y5XKU8fdDLEx",
        "outputId": "d1e58771-b046-4bdc-e299-56ea41def174"
      },
      "execution_count": 27,
      "outputs": [
        {
          "output_type": "stream",
          "name": "stdout",
          "text": [
            "<class 'tuple'> (1, 2, 3, 4)\n"
          ]
        }
      ]
    },
    {
      "cell_type": "code",
      "source": [
        "def plus(*args, **kwargs):\n",
        "    print(type(args), args)\n",
        "    print(type(kwargs), kwargs)\n",
        "\n",
        "plus(1, 2, 3, 4, num1=10, num2=20)"
      ],
      "metadata": {
        "colab": {
          "base_uri": "https://localhost:8080/"
        },
        "id": "WN3LmOHhZc5U",
        "outputId": "8696cf08-97a7-43a7-a7ee-b7e0e86e31f0"
      },
      "execution_count": 28,
      "outputs": [
        {
          "output_type": "stream",
          "name": "stdout",
          "text": [
            "<class 'tuple'> (1, 2, 3, 4)\n",
            "<class 'dict'> {'num1': 10, 'num2': 20}\n"
          ]
        }
      ]
    },
    {
      "cell_type": "code",
      "source": [
        "# return\n",
        "# 함수 실행후 결과 데이터를 변수에 저장할 때 사용\n",
        "# 함수는 리턴이 있는 함수와 리턴이 없는 함수가 있음"
      ],
      "metadata": {
        "id": "M-6BicL9aI-d"
      },
      "execution_count": 29,
      "outputs": []
    },
    {
      "cell_type": "code",
      "source": [
        "def plus1(n1, n2):\n",
        "  print(n1 + n2)\n",
        "\n",
        "def plus2(n1, n2):\n",
        "  return n1 + n2"
      ],
      "metadata": {
        "id": "YYhfesQRbV5_"
      },
      "execution_count": 30,
      "outputs": []
    },
    {
      "cell_type": "code",
      "source": [
        "result1 = plus1(1, 2)\n",
        "result2 = plus2(3, 4) # result2 = n1 + n2\n",
        "print(result1, result2)"
      ],
      "metadata": {
        "colab": {
          "base_uri": "https://localhost:8080/"
        },
        "id": "dm0HC4R2bfPJ",
        "outputId": "15c8eea8-efa5-4deb-998c-6e27225ac76d"
      },
      "execution_count": 32,
      "outputs": [
        {
          "output_type": "stream",
          "name": "stdout",
          "text": [
            "3\n",
            "None 7\n"
          ]
        }
      ]
    },
    {
      "cell_type": "code",
      "source": [
        "# return이 있는 함수: str.upper()\n",
        "# 원래 변수는 바꾸지 않는 함수가 대부분\n",
        "data = 'python'\n",
        "result = data.upper()\n",
        "print(data, result)"
      ],
      "metadata": {
        "colab": {
          "base_uri": "https://localhost:8080/"
        },
        "id": "KDjo35Fnbl6M",
        "outputId": "3280edaa-adc4-4059-fbf5-0fedbd32a42e"
      },
      "execution_count": 33,
      "outputs": [
        {
          "output_type": "stream",
          "name": "stdout",
          "text": [
            "python PYTHON\n"
          ]
        }
      ]
    },
    {
      "cell_type": "code",
      "source": [
        "# return이 없는 함수: list.sort()\n",
        "# 변수에 데이터를 저장할 수 없고 데이터 자체를 바꾸는 기능으로 많이 사용됨\n",
        "data = [1,3,2]\n",
        "result = data.sort()\n",
        "print(data, result)"
      ],
      "metadata": {
        "colab": {
          "base_uri": "https://localhost:8080/"
        },
        "id": "iylD6hyOchEr",
        "outputId": "e2fbb4f8-1a56-4269-fe95-f9c8f0ce18ab"
      },
      "execution_count": 34,
      "outputs": [
        {
          "output_type": "stream",
          "name": "stdout",
          "text": [
            "[1, 2, 3] None\n"
          ]
        }
      ]
    },
    {
      "cell_type": "code",
      "source": [
        "# return 함수에서 코드실행을 중단 -> break와 같은 역할\n",
        "def echo(data):\n",
        "  if data == 'Q':\n",
        "    return\n",
        "  print(data)"
      ],
      "metadata": {
        "id": "2Ssl8tEGdWXB"
      },
      "execution_count": 35,
      "outputs": []
    },
    {
      "cell_type": "code",
      "source": [
        "echo('kyobo')"
      ],
      "metadata": {
        "colab": {
          "base_uri": "https://localhost:8080/"
        },
        "id": "7AN_tZBod3Sy",
        "outputId": "dcb3f9f9-ff75-4d55-f07f-f40e6c07688a"
      },
      "execution_count": 36,
      "outputs": [
        {
          "output_type": "stream",
          "name": "stdout",
          "text": [
            "kyobo\n"
          ]
        }
      ]
    },
    {
      "cell_type": "code",
      "source": [
        "echo('Q')"
      ],
      "metadata": {
        "id": "QoLLrLOYd8cy"
      },
      "execution_count": 37,
      "outputs": []
    },
    {
      "cell_type": "code",
      "source": [
        "# 실수할만한 코드\n",
        "data = 10\n",
        "def change():\n",
        "  data = 20\n",
        "\n",
        "change()\n",
        "print(data)"
      ],
      "metadata": {
        "colab": {
          "base_uri": "https://localhost:8080/"
        },
        "id": "emJeQosud-jf",
        "outputId": "293a42e7-62d2-48ac-a9f2-70d8991077f1"
      },
      "execution_count": 39,
      "outputs": [
        {
          "output_type": "stream",
          "name": "stdout",
          "text": [
            "10\n"
          ]
        }
      ]
    },
    {
      "cell_type": "code",
      "source": [
        "# 함수 scope\n",
        "# global: 전역: 함수 밖에 변수선언\n",
        "# local: 지역: 함수 안에 변수선언\n",
        "\n",
        "# global: 지역영역에서 전역영역의 변수를 가져오기\n",
        "data = 10\n",
        "def change():\n",
        "  global data # 전역영역의 data 변수 연결\n",
        "  data = 20\n",
        "\n",
        "change()\n",
        "print(data)"
      ],
      "metadata": {
        "colab": {
          "base_uri": "https://localhost:8080/"
        },
        "id": "soqqGCx2ems1",
        "outputId": "be1c09ff-ce13-474c-85b9-4f06b0bbc71a"
      },
      "execution_count": 40,
      "outputs": [
        {
          "output_type": "stream",
          "name": "stdout",
          "text": [
            "20\n"
          ]
        }
      ]
    },
    {
      "cell_type": "code",
      "source": [
        "# return: 지역영역의 변수(데이터)를 전역영역으로 가져오기\n",
        "data = 10\n",
        "def change():\n",
        "  data = 20\n",
        "  return data\n",
        "\n",
        "data = change()\n",
        "print(data)"
      ],
      "metadata": {
        "colab": {
          "base_uri": "https://localhost:8080/"
        },
        "id": "kc82MmtSjYPW",
        "outputId": "3c88e4bb-c4f9-497f-fb65-9629bce93354"
      },
      "execution_count": 41,
      "outputs": [
        {
          "output_type": "stream",
          "name": "stdout",
          "text": [
            "20\n"
          ]
        }
      ]
    },
    {
      "cell_type": "code",
      "source": [
        "# docstring: 함수의 설명글\n",
        "def plus(n1, n2):\n",
        "  '''This function is plus two numbers:\n",
        "  params\n",
        "  -------\n",
        "  n1: int, float: first number\n",
        "  n2: int, float: second number\n",
        "\n",
        "  return\n",
        "  -------\n",
        "  n1 + n2: int, float\n",
        "  '''\n",
        "  return n1 + n2"
      ],
      "metadata": {
        "id": "myPiPEpEj3yN"
      },
      "execution_count": 42,
      "outputs": []
    },
    {
      "cell_type": "code",
      "source": [
        "help(plus)"
      ],
      "metadata": {
        "colab": {
          "base_uri": "https://localhost:8080/"
        },
        "id": "_87GSdJCksvP",
        "outputId": "c5ae233b-cc4c-457b-fa16-6f9b2e49b04e"
      },
      "execution_count": 43,
      "outputs": [
        {
          "output_type": "stream",
          "name": "stdout",
          "text": [
            "Help on function plus in module __main__:\n",
            "\n",
            "plus(n1, n2)\n",
            "    This function is plus two numbers:\n",
            "    params\n",
            "    -------\n",
            "    n1: int, float: first number\n",
            "    n2: int, float: second number\n",
            "    \n",
            "    return\n",
            "    -------\n",
            "    n1 + n2: int, float\n",
            "\n"
          ]
        }
      ]
    },
    {
      "cell_type": "code",
      "source": [
        "# 식별자 규칙: def/if 등의 명령어는 안되지만, print/list 등의 함수는 된다(단, 사용하지 않기!)\n",
        "print = 10\n",
        "data = 10\n",
        "print(data) # 런타임 > 런타임 다시 시작"
      ],
      "metadata": {
        "colab": {
          "base_uri": "https://localhost:8080/",
          "height": 212
        },
        "id": "evhATWXTkuBP",
        "outputId": "6b89e9f0-801e-4f14-a16f-47c1c59479cd"
      },
      "execution_count": 44,
      "outputs": [
        {
          "output_type": "error",
          "ename": "TypeError",
          "evalue": "ignored",
          "traceback": [
            "\u001b[0;31m---------------------------------------------------------------------------\u001b[0m",
            "\u001b[0;31mTypeError\u001b[0m                                 Traceback (most recent call last)",
            "\u001b[0;32m<ipython-input-44-3dc90987418d>\u001b[0m in \u001b[0;36m<module>\u001b[0;34m\u001b[0m\n\u001b[1;32m      2\u001b[0m \u001b[0mprint\u001b[0m \u001b[0;34m=\u001b[0m \u001b[0;36m10\u001b[0m\u001b[0;34m\u001b[0m\u001b[0;34m\u001b[0m\u001b[0m\n\u001b[1;32m      3\u001b[0m \u001b[0mdata\u001b[0m \u001b[0;34m=\u001b[0m \u001b[0;36m10\u001b[0m\u001b[0;34m\u001b[0m\u001b[0;34m\u001b[0m\u001b[0m\n\u001b[0;32m----> 4\u001b[0;31m \u001b[0mprint\u001b[0m\u001b[0;34m(\u001b[0m\u001b[0mdata\u001b[0m\u001b[0;34m)\u001b[0m\u001b[0;34m\u001b[0m\u001b[0;34m\u001b[0m\u001b[0m\n\u001b[0m",
            "\u001b[0;31mTypeError\u001b[0m: 'int' object is not callable"
          ]
        }
      ]
    },
    {
      "cell_type": "code",
      "source": [
        "# lambda \n",
        "# 일회성함수: 간단한 파라미터, 리턴 코드가 있는 함수 대체\n",
        "# 간단한 함수를 함수 선언 없이 기능을 구현 > 메모리 절약\n",
        "\n",
        "def plus(n1, n2): # parameter와 return으로 이루어진 함수 -> 따라서 lambda로 대체 가능\n",
        "  return n1 + n2\n",
        "\n",
        "def minus(n1, n2):\n",
        "  return n1 - n2\n",
        "\n",
        "def calc(func, n1, n2):\n",
        "  return func(n1, n2)\n",
        "  # 함수 3개 선언: 메모리 3칸 사용"
      ],
      "metadata": {
        "id": "i1-727VrmC52"
      },
      "execution_count": 1,
      "outputs": []
    },
    {
      "cell_type": "code",
      "source": [
        "# 함수 자체를 파라미터로 사용할 수 있다\n",
        "calc(plus, 1, 2), calc(minus, 1, 2)"
      ],
      "metadata": {
        "colab": {
          "base_uri": "https://localhost:8080/"
        },
        "id": "H5j_qM5DmpWr",
        "outputId": "462bd37f-3668-46d0-c79a-aa2b221681bf"
      },
      "execution_count": 2,
      "outputs": [
        {
          "output_type": "execute_result",
          "data": {
            "text/plain": [
              "(3, -1)"
            ]
          },
          "metadata": {},
          "execution_count": 2
        }
      ]
    },
    {
      "cell_type": "code",
      "source": [
        "plus_lambda = lambda n1, n2: n1 + n2\n",
        "calc(plus_lambda, 1, 2)"
      ],
      "metadata": {
        "colab": {
          "base_uri": "https://localhost:8080/"
        },
        "id": "X6Vltt42nYKo",
        "outputId": "9091a10a-9fe1-44fe-fb70-82dcecf5c370"
      },
      "execution_count": 3,
      "outputs": [
        {
          "output_type": "execute_result",
          "data": {
            "text/plain": [
              "3"
            ]
          },
          "metadata": {},
          "execution_count": 3
        }
      ]
    },
    {
      "cell_type": "code",
      "source": [
        "# 함수 1개 선언: 메모리 1칸 사용\n",
        "def calc(func, n1, n2):\n",
        "  return func(n1, n2)\n",
        "\n",
        "plus_lambda = lambda n1, n2: n1 + n2\n",
        "calc(plus_lambda, 1, 2), calc(lambda n1, n2: n1 - n2, 1, 2)"
      ],
      "metadata": {
        "colab": {
          "base_uri": "https://localhost:8080/"
        },
        "id": "mkTPXe1Lni93",
        "outputId": "9b58104e-ee54-4169-af47-688e1d0a9e9e"
      },
      "execution_count": 4,
      "outputs": [
        {
          "output_type": "execute_result",
          "data": {
            "text/plain": [
              "(3, -1)"
            ]
          },
          "metadata": {},
          "execution_count": 4
        }
      ]
    },
    {
      "cell_type": "code",
      "source": [
        "# 7. 클래스\n",
        "# 변수, 함수를 묶어서 코드를 작성 및 실행하는 방법\n",
        "# 객체지향을 문법적으로 구현\n",
        "# 객체지향: 실제세계를 모델링하여 코드를 개발하는 방법론: 협업이 용이함\n",
        "# 사용법\n",
        "# - 클래스 선언(코드 작성) > 객체 생성(메모리 사용) > 메서드(함수) 실행(코드 실행)\n",
        "# - 클래스선언(설계도작성) > 객체생성(제품생산) > 메서드실행(기능사용)\n",
        "# 클래스 식별자 : PascalCase, UpperCamelCase"
      ],
      "metadata": {
        "id": "2KXz5m0UoCvW"
      },
      "execution_count": null,
      "outputs": []
    },
    {
      "cell_type": "code",
      "source": [
        "# 클래스선언(코드 작성)\n",
        "# 계좌만들기: Account: balance, deposit(), withdraw()\n",
        "class Account:\n",
        "  balance = 0\n",
        "  def deposit(self, money):\n",
        "    self.balance += money\n",
        "  def withdraw(self, money):\n",
        "    self.balance -= money\n",
        "  "
      ],
      "metadata": {
        "id": "RZwlV2dqxAC-"
      },
      "execution_count": 5,
      "outputs": []
    },
    {
      "cell_type": "code",
      "source": [
        "# 객체생성(메모리사용)\n",
        "account1 = Account() # 함수는 snake_case이므로 소문자로 시작함, 클래스는 대문자로 시작함\n",
        "account2 = Account()"
      ],
      "metadata": {
        "id": "hie_ySMpxfUc"
      },
      "execution_count": 6,
      "outputs": []
    },
    {
      "cell_type": "code",
      "source": [
        "# dir(): 객체에 저장되어 있는 변수 출력\n",
        "dir(account1) # dir(account1)[-3:]을 제외하면 모두 스페셜 메서드"
      ],
      "metadata": {
        "colab": {
          "base_uri": "https://localhost:8080/"
        },
        "id": "7haFOm00yGJc",
        "outputId": "f828dd68-2cdb-4ba6-8442-bb7316d2eb32"
      },
      "execution_count": 7,
      "outputs": [
        {
          "output_type": "execute_result",
          "data": {
            "text/plain": [
              "['__class__',\n",
              " '__delattr__',\n",
              " '__dict__',\n",
              " '__dir__',\n",
              " '__doc__',\n",
              " '__eq__',\n",
              " '__format__',\n",
              " '__ge__',\n",
              " '__getattribute__',\n",
              " '__gt__',\n",
              " '__hash__',\n",
              " '__init__',\n",
              " '__init_subclass__',\n",
              " '__le__',\n",
              " '__lt__',\n",
              " '__module__',\n",
              " '__ne__',\n",
              " '__new__',\n",
              " '__reduce__',\n",
              " '__reduce_ex__',\n",
              " '__repr__',\n",
              " '__setattr__',\n",
              " '__sizeof__',\n",
              " '__str__',\n",
              " '__subclasshook__',\n",
              " '__weakref__',\n",
              " 'balance',\n",
              " 'deposit',\n",
              " 'withdraw']"
            ]
          },
          "metadata": {},
          "execution_count": 7
        }
      ]
    },
    {
      "cell_type": "code",
      "source": [
        "account1.balance, account2.balance"
      ],
      "metadata": {
        "colab": {
          "base_uri": "https://localhost:8080/"
        },
        "id": "asiEB5AxyKgt",
        "outputId": "b11e8dfe-513d-49ed-d9a9-46cd0ed1a6da"
      },
      "execution_count": 8,
      "outputs": [
        {
          "output_type": "execute_result",
          "data": {
            "text/plain": [
              "(0, 0)"
            ]
          },
          "metadata": {},
          "execution_count": 8
        }
      ]
    },
    {
      "cell_type": "code",
      "source": [
        "# 메서드실행(코드실행)\n",
        "account1.deposit(5000)\n",
        "account1.balance, account2.balance"
      ],
      "metadata": {
        "colab": {
          "base_uri": "https://localhost:8080/"
        },
        "id": "2zFzWjoxyiWu",
        "outputId": "f9bec746-5cdb-46d3-ef28-ccf10a53d915"
      },
      "execution_count": 9,
      "outputs": [
        {
          "output_type": "execute_result",
          "data": {
            "text/plain": [
              "(5000, 0)"
            ]
          },
          "metadata": {},
          "execution_count": 9
        }
      ]
    },
    {
      "cell_type": "code",
      "source": [
        "account1.withdraw(2000)\n",
        "account1.balance, account2.balance"
      ],
      "metadata": {
        "colab": {
          "base_uri": "https://localhost:8080/"
        },
        "id": "5oVsWsjQyx94",
        "outputId": "2b4aa317-fb28-4859-e702-60d41314bc68"
      },
      "execution_count": 10,
      "outputs": [
        {
          "output_type": "execute_result",
          "data": {
            "text/plain": [
              "(3000, 0)"
            ]
          },
          "metadata": {},
          "execution_count": 10
        }
      ]
    },
    {
      "cell_type": "code",
      "source": [
        "# self: 객체 자신\n",
        "bool(\" \")"
      ],
      "metadata": {
        "colab": {
          "base_uri": "https://localhost:8080/"
        },
        "id": "egDKjAs5y3wC",
        "outputId": "8d43c5ea-1322-4f47-c66c-6c2e65ac9f0a"
      },
      "execution_count": 13,
      "outputs": [
        {
          "output_type": "execute_result",
          "data": {
            "text/plain": [
              "True"
            ]
          },
          "metadata": {},
          "execution_count": 13
        }
      ]
    },
    {
      "cell_type": "code",
      "source": [
        "# 스페셜 메서드\n",
        "# 메서드 이름 앞뒤로 __ 가 붙어있는 메서드\n",
        "# 특별한 기능을 하는 메서드\n",
        "# 생성자 메서드 : __init__ : 객체를 생성할때 실행되는 메서드, 제품을 만들 때 부품이 다 있는지 확인하는 역할\n",
        "#    - 클래스의 메서드에서 사용되는 변수의 초기값을 지정하는 용도로 사용"
      ],
      "metadata": {
        "id": "1D6jPyVZ0uKD"
      },
      "execution_count": 14,
      "outputs": []
    },
    {
      "cell_type": "code",
      "source": [
        "# 클래스 생성\n",
        "class Account:\n",
        "  def __init__(self, balance):\n",
        "    self.balance = balance\n",
        "  def deposit(self, money):\n",
        "      self.balance += money\n",
        "  def withdraw(self, money):\n",
        "      self.balance -= money"
      ],
      "metadata": {
        "id": "2rKP3ZZg3hIy"
      },
      "execution_count": 15,
      "outputs": []
    },
    {
      "cell_type": "code",
      "source": [
        "# 객체 생성\n",
        "# 이 코드가 실행될 때 __init__이 실행됨\n",
        "account = Account()"
      ],
      "metadata": {
        "colab": {
          "base_uri": "https://localhost:8080/",
          "height": 212
        },
        "id": "i94RAlc5362A",
        "outputId": "40fffdb6-d375-4b22-9088-0532dd875445"
      },
      "execution_count": 16,
      "outputs": [
        {
          "output_type": "error",
          "ename": "TypeError",
          "evalue": "ignored",
          "traceback": [
            "\u001b[0;31m---------------------------------------------------------------------------\u001b[0m",
            "\u001b[0;31mTypeError\u001b[0m                                 Traceback (most recent call last)",
            "\u001b[0;32m<ipython-input-16-2d225a322f6f>\u001b[0m in \u001b[0;36m<module>\u001b[0;34m\u001b[0m\n\u001b[1;32m      1\u001b[0m \u001b[0;31m# 객체 생성\u001b[0m\u001b[0;34m\u001b[0m\u001b[0;34m\u001b[0m\u001b[0m\n\u001b[1;32m      2\u001b[0m \u001b[0;31m# 이 코드가 실행될 때 __init__이 실행됨\u001b[0m\u001b[0;34m\u001b[0m\u001b[0;34m\u001b[0m\u001b[0m\n\u001b[0;32m----> 3\u001b[0;31m \u001b[0maccount\u001b[0m \u001b[0;34m=\u001b[0m \u001b[0mAccount\u001b[0m\u001b[0;34m(\u001b[0m\u001b[0;34m)\u001b[0m\u001b[0;34m\u001b[0m\u001b[0;34m\u001b[0m\u001b[0m\n\u001b[0m",
            "\u001b[0;31mTypeError\u001b[0m: __init__() missing 1 required positional argument: 'balance'"
          ]
        }
      ]
    },
    {
      "cell_type": "code",
      "source": [
        "# 초기값에 해당하는 재료(balance)를 넣어주면 동작함\n",
        "account = Account(10000)"
      ],
      "metadata": {
        "id": "ej1yO3Hy4OAG"
      },
      "execution_count": 17,
      "outputs": []
    },
    {
      "cell_type": "code",
      "source": [
        "import pandas as pd"
      ],
      "metadata": {
        "id": "-f01vE_44U_S"
      },
      "execution_count": 18,
      "outputs": []
    },
    {
      "cell_type": "code",
      "source": [
        "data = pd.DataFrame({'id': [1, 2], 'name': ['A', 'B']}) # 객체 생성\n",
        "data"
      ],
      "metadata": {
        "colab": {
          "base_uri": "https://localhost:8080/",
          "height": 112
        },
        "id": "fQ1elfOF4qWU",
        "outputId": "b29ccd36-eed1-42f0-eda9-742faeb5478a"
      },
      "execution_count": 20,
      "outputs": [
        {
          "output_type": "execute_result",
          "data": {
            "text/plain": [
              "   id name\n",
              "0   1    A\n",
              "1   2    B"
            ],
            "text/html": [
              "\n",
              "  <div id=\"df-4f1c6f68-54e8-484c-aada-1f5890e40f18\">\n",
              "    <div class=\"colab-df-container\">\n",
              "      <div>\n",
              "<style scoped>\n",
              "    .dataframe tbody tr th:only-of-type {\n",
              "        vertical-align: middle;\n",
              "    }\n",
              "\n",
              "    .dataframe tbody tr th {\n",
              "        vertical-align: top;\n",
              "    }\n",
              "\n",
              "    .dataframe thead th {\n",
              "        text-align: right;\n",
              "    }\n",
              "</style>\n",
              "<table border=\"1\" class=\"dataframe\">\n",
              "  <thead>\n",
              "    <tr style=\"text-align: right;\">\n",
              "      <th></th>\n",
              "      <th>id</th>\n",
              "      <th>name</th>\n",
              "    </tr>\n",
              "  </thead>\n",
              "  <tbody>\n",
              "    <tr>\n",
              "      <th>0</th>\n",
              "      <td>1</td>\n",
              "      <td>A</td>\n",
              "    </tr>\n",
              "    <tr>\n",
              "      <th>1</th>\n",
              "      <td>2</td>\n",
              "      <td>B</td>\n",
              "    </tr>\n",
              "  </tbody>\n",
              "</table>\n",
              "</div>\n",
              "      <button class=\"colab-df-convert\" onclick=\"convertToInteractive('df-4f1c6f68-54e8-484c-aada-1f5890e40f18')\"\n",
              "              title=\"Convert this dataframe to an interactive table.\"\n",
              "              style=\"display:none;\">\n",
              "        \n",
              "  <svg xmlns=\"http://www.w3.org/2000/svg\" height=\"24px\"viewBox=\"0 0 24 24\"\n",
              "       width=\"24px\">\n",
              "    <path d=\"M0 0h24v24H0V0z\" fill=\"none\"/>\n",
              "    <path d=\"M18.56 5.44l.94 2.06.94-2.06 2.06-.94-2.06-.94-.94-2.06-.94 2.06-2.06.94zm-11 1L8.5 8.5l.94-2.06 2.06-.94-2.06-.94L8.5 2.5l-.94 2.06-2.06.94zm10 10l.94 2.06.94-2.06 2.06-.94-2.06-.94-.94-2.06-.94 2.06-2.06.94z\"/><path d=\"M17.41 7.96l-1.37-1.37c-.4-.4-.92-.59-1.43-.59-.52 0-1.04.2-1.43.59L10.3 9.45l-7.72 7.72c-.78.78-.78 2.05 0 2.83L4 21.41c.39.39.9.59 1.41.59.51 0 1.02-.2 1.41-.59l7.78-7.78 2.81-2.81c.8-.78.8-2.07 0-2.86zM5.41 20L4 18.59l7.72-7.72 1.47 1.35L5.41 20z\"/>\n",
              "  </svg>\n",
              "      </button>\n",
              "      \n",
              "  <style>\n",
              "    .colab-df-container {\n",
              "      display:flex;\n",
              "      flex-wrap:wrap;\n",
              "      gap: 12px;\n",
              "    }\n",
              "\n",
              "    .colab-df-convert {\n",
              "      background-color: #E8F0FE;\n",
              "      border: none;\n",
              "      border-radius: 50%;\n",
              "      cursor: pointer;\n",
              "      display: none;\n",
              "      fill: #1967D2;\n",
              "      height: 32px;\n",
              "      padding: 0 0 0 0;\n",
              "      width: 32px;\n",
              "    }\n",
              "\n",
              "    .colab-df-convert:hover {\n",
              "      background-color: #E2EBFA;\n",
              "      box-shadow: 0px 1px 2px rgba(60, 64, 67, 0.3), 0px 1px 3px 1px rgba(60, 64, 67, 0.15);\n",
              "      fill: #174EA6;\n",
              "    }\n",
              "\n",
              "    [theme=dark] .colab-df-convert {\n",
              "      background-color: #3B4455;\n",
              "      fill: #D2E3FC;\n",
              "    }\n",
              "\n",
              "    [theme=dark] .colab-df-convert:hover {\n",
              "      background-color: #434B5C;\n",
              "      box-shadow: 0px 1px 3px 1px rgba(0, 0, 0, 0.15);\n",
              "      filter: drop-shadow(0px 1px 2px rgba(0, 0, 0, 0.3));\n",
              "      fill: #FFFFFF;\n",
              "    }\n",
              "  </style>\n",
              "\n",
              "      <script>\n",
              "        const buttonEl =\n",
              "          document.querySelector('#df-4f1c6f68-54e8-484c-aada-1f5890e40f18 button.colab-df-convert');\n",
              "        buttonEl.style.display =\n",
              "          google.colab.kernel.accessAllowed ? 'block' : 'none';\n",
              "\n",
              "        async function convertToInteractive(key) {\n",
              "          const element = document.querySelector('#df-4f1c6f68-54e8-484c-aada-1f5890e40f18');\n",
              "          const dataTable =\n",
              "            await google.colab.kernel.invokeFunction('convertToInteractive',\n",
              "                                                     [key], {});\n",
              "          if (!dataTable) return;\n",
              "\n",
              "          const docLinkHtml = 'Like what you see? Visit the ' +\n",
              "            '<a target=\"_blank\" href=https://colab.research.google.com/notebooks/data_table.ipynb>data table notebook</a>'\n",
              "            + ' to learn more about interactive tables.';\n",
              "          element.innerHTML = '';\n",
              "          dataTable['output_type'] = 'display_data';\n",
              "          await google.colab.output.renderOutput(dataTable, element);\n",
              "          const docLink = document.createElement('div');\n",
              "          docLink.innerHTML = docLinkHtml;\n",
              "          element.appendChild(docLink);\n",
              "        }\n",
              "      </script>\n",
              "    </div>\n",
              "  </div>\n",
              "  "
            ]
          },
          "metadata": {},
          "execution_count": 20
        }
      ]
    },
    {
      "cell_type": "code",
      "source": [
        "# 클래스는 사용자정의 데이터타입\n",
        "# 클래스 = 데이터타입\n",
        "# 사용자정의: Account는 우리가 만들었다\n",
        "\n",
        "# data 변수는 str 클래스로 만들어진 데이터타입 입니다.\n",
        "# str 클래스로 만들어진 객체\n",
        "data = 'python'\n",
        "type(data)"
      ],
      "metadata": {
        "colab": {
          "base_uri": "https://localhost:8080/"
        },
        "id": "XvWDw32p4-mx",
        "outputId": "42bc31f5-5dbb-4712-f8c3-2ca0ffd6dc69"
      },
      "execution_count": 21,
      "outputs": [
        {
          "output_type": "execute_result",
          "data": {
            "text/plain": [
              "str"
            ]
          },
          "metadata": {},
          "execution_count": 21
        }
      ]
    },
    {
      "cell_type": "code",
      "source": [
        "# account 객체: 클래스, 데이터타입: Account\n",
        "# data 객체: 클래스, 데이터타입: str\n",
        "type(account), type(data)"
      ],
      "metadata": {
        "colab": {
          "base_uri": "https://localhost:8080/"
        },
        "id": "VP06gX4l-hv0",
        "outputId": "c03d854e-13d5-4521-9316-7bdf88b8d3e1"
      },
      "execution_count": 22,
      "outputs": [
        {
          "output_type": "execute_result",
          "data": {
            "text/plain": [
              "(__main__.Account, str)"
            ]
          },
          "metadata": {},
          "execution_count": 22
        }
      ]
    },
    {
      "cell_type": "code",
      "source": [
        "# data 객체가 사용할 수 있는 메서드들\n",
        "dir(data)[-10:]"
      ],
      "metadata": {
        "colab": {
          "base_uri": "https://localhost:8080/"
        },
        "id": "zMqefY3E-xLs",
        "outputId": "b18c05e2-7e86-4b08-a08e-6e146a1a4ae1"
      },
      "execution_count": 23,
      "outputs": [
        {
          "output_type": "execute_result",
          "data": {
            "text/plain": [
              "['rstrip',\n",
              " 'split',\n",
              " 'splitlines',\n",
              " 'startswith',\n",
              " 'strip',\n",
              " 'swapcase',\n",
              " 'title',\n",
              " 'translate',\n",
              " 'upper',\n",
              " 'zfill']"
            ]
          },
          "metadata": {},
          "execution_count": 23
        }
      ]
    },
    {
      "cell_type": "code",
      "source": [
        "help(data.upper)"
      ],
      "metadata": {
        "colab": {
          "base_uri": "https://localhost:8080/"
        },
        "id": "d-qvVywx-47y",
        "outputId": "139eb3ee-4198-468a-8bfd-7a9dccc78999"
      },
      "execution_count": 24,
      "outputs": [
        {
          "output_type": "stream",
          "name": "stdout",
          "text": [
            "Help on built-in function upper:\n",
            "\n",
            "upper() method of builtins.str instance\n",
            "    Return a copy of the string converted to uppercase.\n",
            "\n"
          ]
        }
      ]
    },
    {
      "cell_type": "code",
      "source": [
        "# 8. 모듈, 패키지\n",
        "# 모듈 : 여러개의 변수, 함수, 클래스를 하나의 파일(.py)로 코드를 묶어서 작성 및 실행\n",
        "# 패키지 : 여러개의 모듈파일을 디렉토리로 묶어서 코드를 작성 및 실행\n",
        "# import, from, as\n",
        "%ls\n",
        "# 파일 리스트 출력하는 커멘드"
      ],
      "metadata": {
        "colab": {
          "base_uri": "https://localhost:8080/"
        },
        "id": "trLIrI5B_Ybd",
        "outputId": "3cb7e59f-011c-4c63-d589-5ab2b425c184"
      },
      "execution_count": 25,
      "outputs": [
        {
          "output_type": "stream",
          "name": "stdout",
          "text": [
            "\u001b[0m\u001b[01;34mdrive\u001b[0m/  \u001b[01;34msample_data\u001b[0m/\n"
          ]
        }
      ]
    },
    {
      "cell_type": "code",
      "source": [
        "%%writefile kyobo.py\n",
        "kyobo_data = 1234\n",
        "\n",
        "def echo(msg):\n",
        "    print('kyobo', msg)"
      ],
      "metadata": {
        "colab": {
          "base_uri": "https://localhost:8080/"
        },
        "id": "quaFjArdA5F9",
        "outputId": "2a4d4564-3317-4706-aaa5-e79c5e6fd581"
      },
      "execution_count": 26,
      "outputs": [
        {
          "output_type": "stream",
          "name": "stdout",
          "text": [
            "Writing kyobo.py\n"
          ]
        }
      ]
    },
    {
      "cell_type": "code",
      "source": [
        "%ls"
      ],
      "metadata": {
        "colab": {
          "base_uri": "https://localhost:8080/"
        },
        "id": "0ayKVfsrBH4f",
        "outputId": "dc8fcd60-92dd-402a-cc94-9e697895c555"
      },
      "execution_count": 27,
      "outputs": [
        {
          "output_type": "stream",
          "name": "stdout",
          "text": [
            "\u001b[0m\u001b[01;34mdrive\u001b[0m/  kyobo.py  \u001b[01;34msample_data\u001b[0m/\n"
          ]
        }
      ]
    },
    {
      "cell_type": "code",
      "source": [
        "# kyobo 모듈 파일에는 변수 data, 함수 echo가 있다\n",
        "import kyobo\n",
        "\n",
        "kyobo.kyobo_data"
      ],
      "metadata": {
        "colab": {
          "base_uri": "https://localhost:8080/"
        },
        "id": "Im_8bRddBJDB",
        "outputId": "fa09e08c-d9c9-4258-efae-522a413c9f54"
      },
      "execution_count": 30,
      "outputs": [
        {
          "output_type": "execute_result",
          "data": {
            "text/plain": [
              "1234"
            ]
          },
          "metadata": {},
          "execution_count": 30
        }
      ]
    },
    {
      "cell_type": "code",
      "source": [
        "kyobo.echo('python')"
      ],
      "metadata": {
        "colab": {
          "base_uri": "https://localhost:8080/"
        },
        "id": "U7MSZ9l8BT3P",
        "outputId": "1ed8ff45-e050-4b05-f5ae-21b662a5c16e"
      },
      "execution_count": 31,
      "outputs": [
        {
          "output_type": "stream",
          "name": "stdout",
          "text": [
            "kyobo python\n"
          ]
        }
      ]
    },
    {
      "cell_type": "code",
      "source": [
        "%reset\n",
        "# 현재 선언된 변수 초기화해주는 명령"
      ],
      "metadata": {
        "colab": {
          "base_uri": "https://localhost:8080/"
        },
        "id": "UvpB4x5MBoc8",
        "outputId": "00ae0d57-3d8a-44a4-ccea-e8c7c4a5efbb"
      },
      "execution_count": 32,
      "outputs": [
        {
          "name": "stdout",
          "output_type": "stream",
          "text": [
            "Once deleted, variables cannot be recovered. Proceed (y/[n])? y\n"
          ]
        }
      ]
    },
    {
      "cell_type": "code",
      "source": [
        "%whos\n",
        "# 현재 선언된 변수 출력"
      ],
      "metadata": {
        "colab": {
          "base_uri": "https://localhost:8080/"
        },
        "id": "VhrTWayhB9N8",
        "outputId": "969bceca-3a55-4728-b826-13c2ec68849a"
      },
      "execution_count": 33,
      "outputs": [
        {
          "output_type": "stream",
          "name": "stdout",
          "text": [
            "Interactive namespace is empty.\n"
          ]
        }
      ]
    },
    {
      "cell_type": "code",
      "source": [
        "from kyobo import kyobo_data, echo"
      ],
      "metadata": {
        "id": "gBH1KhEJCCGJ"
      },
      "execution_count": 34,
      "outputs": []
    },
    {
      "cell_type": "code",
      "source": [
        "%whos"
      ],
      "metadata": {
        "colab": {
          "base_uri": "https://localhost:8080/"
        },
        "id": "sAOCYI2_COdV",
        "outputId": "a0aea58d-354a-4a76-bbfc-d3bef86b0c31"
      },
      "execution_count": 35,
      "outputs": [
        {
          "output_type": "stream",
          "name": "stdout",
          "text": [
            "Variable     Type        Data/Info\n",
            "----------------------------------\n",
            "echo         function    <function echo at 0x7f961204b670>\n",
            "kyobo_data   int         1234\n"
          ]
        }
      ]
    },
    {
      "cell_type": "code",
      "source": [
        "from kyobo import kyobo_data as kd"
      ],
      "metadata": {
        "id": "dG-WEAZeCRAd"
      },
      "execution_count": 36,
      "outputs": []
    },
    {
      "cell_type": "code",
      "source": [
        "%whos"
      ],
      "metadata": {
        "colab": {
          "base_uri": "https://localhost:8080/"
        },
        "id": "rozCOTU2CwZP",
        "outputId": "6ed8bdfc-0e96-49dd-e92e-60f8a6b65db6"
      },
      "execution_count": 37,
      "outputs": [
        {
          "output_type": "stream",
          "name": "stdout",
          "text": [
            "Variable     Type        Data/Info\n",
            "----------------------------------\n",
            "echo         function    <function echo at 0x7f961204b670>\n",
            "kd           int         1234\n",
            "kyobo_data   int         1234\n"
          ]
        }
      ]
    },
    {
      "cell_type": "code",
      "source": [
        "import insmarket as im\n",
        "ins_data = im.pension_savings_insurance()"
      ],
      "metadata": {
        "id": "1DSf6KJaCxRp"
      },
      "execution_count": null,
      "outputs": []
    },
    {
      "cell_type": "code",
      "source": [
        "ins_data.to_excel('ins.xlsx', index=False, encoding='utf-8-sig')"
      ],
      "metadata": {
        "id": "0hyB4bd0EyHA"
      },
      "execution_count": null,
      "outputs": []
    },
    {
      "cell_type": "code",
      "source": [
        "!pip install geohash2"
      ],
      "metadata": {
        "colab": {
          "base_uri": "https://localhost:8080/"
        },
        "id": "HoBq1EefE8Vj",
        "outputId": "5bfd094f-fc00-4022-ae25-3c0d6a66140b"
      },
      "execution_count": 38,
      "outputs": [
        {
          "output_type": "stream",
          "name": "stdout",
          "text": [
            "Looking in indexes: https://pypi.org/simple, https://us-python.pkg.dev/colab-wheels/public/simple/\n",
            "Collecting geohash2\n",
            "  Downloading geohash2-1.1.tar.gz (15 kB)\n",
            "  Preparing metadata (setup.py) ... \u001b[?25l\u001b[?25hdone\n",
            "Requirement already satisfied: docutils>=0.3 in /usr/local/lib/python3.9/dist-packages (from geohash2) (0.16)\n",
            "Building wheels for collected packages: geohash2\n",
            "  Building wheel for geohash2 (setup.py) ... \u001b[?25l\u001b[?25hdone\n",
            "  Created wheel for geohash2: filename=geohash2-1.1-py3-none-any.whl size=15562 sha256=2f8fec5cdb807f039056a564513b991c3621617cdd3390db94224072eaf600fe\n",
            "  Stored in directory: /root/.cache/pip/wheels/ec/29/ab/aa2b0265ceaef06eac4aed2ca6ae1b17eb2ffb14d611f20172\n",
            "Successfully built geohash2\n",
            "Installing collected packages: geohash2\n",
            "Successfully installed geohash2-1.1\n"
          ]
        }
      ]
    },
    {
      "cell_type": "code",
      "source": [
        "import zigbang as zb"
      ],
      "metadata": {
        "id": "949hm7BDFEPx"
      },
      "execution_count": null,
      "outputs": []
    },
    {
      "cell_type": "code",
      "source": [
        "%cat zigbang.py"
      ],
      "metadata": {
        "id": "so56jt0hFJql"
      },
      "execution_count": null,
      "outputs": []
    },
    {
      "cell_type": "code",
      "source": [
        "data = zb.oneroom('망원동')\n",
        "data.tail(2)"
      ],
      "metadata": {
        "id": "r0RGf4rCFPOC"
      },
      "execution_count": null,
      "outputs": []
    },
    {
      "cell_type": "code",
      "source": [
        "data.to_excel('one_room.xlsx', index=False, encoding='utf-8-sig')"
      ],
      "metadata": {
        "id": "fcEmTpRPFbmk"
      },
      "execution_count": null,
      "outputs": []
    },
    {
      "cell_type": "code",
      "source": [
        "# 9. 입출력\n",
        "# RAM > SSD, SSD > RAM\n",
        "# RAM(객체) > 직렬화(byte()) > SSD(객체) -> 파이썬은 속도가 느려져 직렬화 거의 하지 않는다\n",
        "# pickle"
      ],
      "metadata": {
        "id": "lixiAJSWJsH1"
      },
      "execution_count": null,
      "outputs": []
    },
    {
      "cell_type": "code",
      "source": [],
      "metadata": {
        "id": "YaQGnE9bJzCg"
      },
      "execution_count": null,
      "outputs": []
    }
  ]
}