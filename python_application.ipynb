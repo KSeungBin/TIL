{
  "nbformat": 4,
  "nbformat_minor": 0,
  "metadata": {
    "colab": {
      "name": "python_application.ipynb",
      "provenance": [],
      "collapsed_sections": [],
      "toc_visible": true,
      "include_colab_link": true
    },
    "kernelspec": {
      "name": "python3",
      "display_name": "Python 3"
    }
  },
  "cells": [
    {
      "cell_type": "markdown",
      "metadata": {
        "id": "view-in-github",
        "colab_type": "text"
      },
      "source": [
        "<a href=\"https://colab.research.google.com/github/KSeungBin/TIL/blob/main/python_application.ipynb\" target=\"_parent\"><img src=\"https://colab.research.google.com/assets/colab-badge.svg\" alt=\"Open In Colab\"/></a>"
      ]
    },
    {
      "cell_type": "markdown",
      "source": [
        "generator, enumerate, list comprehension은 customizing 해보기"
      ],
      "metadata": {
        "id": "erMnqRfGNRtn"
      }
    },
    {
      "cell_type": "code",
      "metadata": {
        "id": "6FemulCdaEEU"
      },
      "source": [
        "# snake case\n",
        "# indent\n",
        "def long_function_name(\n",
        "        var_one, var_two, var_three,\n",
        "        var_four):\n",
        "    print(var_one)\n"
      ],
      "execution_count": null,
      "outputs": []
    },
    {
      "cell_type": "markdown",
      "source": [
        "# data type\n",
        "- dict : O(1)듸 시간복잡도로 값을 조회할 수 있음\n",
        "- tuple : hash로 index만 저장하는 것으로 dict의 key만 저장한 것과 유사\n",
        "ex 1) list -> tuple -> list로 중복 제거\n",
        "ex 2) generator\n",
        "ex 3) 함수로 여러 개의 값을 한꺼번에 return 할 때\n"
      ],
      "metadata": {
        "id": "BCeixrfq90mK"
      }
    },
    {
      "cell_type": "markdown",
      "source": [
        "# 새 섹션"
      ],
      "metadata": {
        "id": "Gb-X9hWM92EY"
      }
    },
    {
      "cell_type": "code",
      "metadata": {
        "id": "avYSdv9JajxU"
      },
      "source": [
        "def long_function_name(\n",
        "        var_one, var_two, var_three,\n",
        "        var_four):\n",
        "    print(var_one)\n"
      ],
      "execution_count": null,
      "outputs": []
    },
    {
      "cell_type": "code",
      "metadata": {
        "id": "fpbWA6rdaldf"
      },
      "source": [
        "# 카멜 케이스\n",
        "camelCase: int = 1\n",
        "# 스네이크 케이스\n",
        "snake_case: int = 1\n"
      ],
      "execution_count": null,
      "outputs": []
    },
    {
      "cell_type": "code",
      "metadata": {
        "id": "pnSc-7lmaqYa"
      },
      "source": [
        "def get_natural_number():\n",
        "  n = 0\n",
        "  while True:\n",
        "    n += 1\n",
        "    yield n\n"
      ],
      "execution_count": null,
      "outputs": []
    },
    {
      "cell_type": "code",
      "metadata": {
        "colab": {
          "base_uri": "https://localhost:8080/"
        },
        "id": "_JnX3so4ar7t",
        "outputId": "2d1f5025-5db6-4ede-f80b-6cb869b9bc73"
      },
      "source": [
        "g = get_natural_number()\n",
        "for _ in range(0, 10):\n",
        "  print(next(g))\n"
      ],
      "execution_count": null,
      "outputs": [
        {
          "output_type": "stream",
          "text": [
            "1\n",
            "2\n",
            "3\n",
            "4\n",
            "5\n",
            "6\n",
            "7\n",
            "8\n",
            "9\n",
            "10\n"
          ],
          "name": "stdout"
        }
      ]
    },
    {
      "cell_type": "code",
      "metadata": {
        "colab": {
          "base_uri": "https://localhost:8080/"
        },
        "id": "02Uuk1cUauUd",
        "outputId": "6c6bdf83-cff7-48e2-f112-5a1816a628f3"
      },
      "source": [
        "list(range(5))\n",
        "# [0, 1, 2, 3, 4]\n",
        "range(5)\n",
        "# range(0, 5)\n",
        "type(range(5))\n",
        "# <class 'range'>\n",
        "\n",
        "for i in range(5):\n",
        "  print(i, end=' ')\n",
        "# 0 1 2 3 4\n"
      ],
      "execution_count": null,
      "outputs": [
        {
          "output_type": "stream",
          "text": [
            "0 1 2 3 4 "
          ],
          "name": "stdout"
        }
      ]
    },
    {
      "cell_type": "code",
      "metadata": {
        "colab": {
          "base_uri": "https://localhost:8080/"
        },
        "id": "6JA2HK_vayI6",
        "outputId": "550be04d-6885-464b-a9e8-d80b15c63137"
      },
      "source": [
        "a = [n for n in range(1000000)]\n",
        "b = range(1000000)\n",
        "\n",
        "len(a)\n",
        "# 1000000\n",
        "len(b)\n",
        "# 1000000\n",
        "len(a) == len(b)\n",
        "# True\n"
      ],
      "execution_count": null,
      "outputs": [
        {
          "output_type": "execute_result",
          "data": {
            "text/plain": [
              "True"
            ]
          },
          "metadata": {
            "tags": []
          },
          "execution_count": 8
        }
      ]
    },
    {
      "cell_type": "code",
      "metadata": {
        "colab": {
          "base_uri": "https://localhost:8080/"
        },
        "id": "ImLGMkhdazuR",
        "outputId": "9195c22f-1845-4a9b-f6a4-0e41efabf9ae"
      },
      "source": [
        "# b는 generator이므로 훨씬 적은 용량을 차지\n",
        "import sys\n",
        "a = [n for n in range(1000000)]\n",
        "b = range(1000000)\n",
        "\n",
        "sys.getsizeof(a)\n",
        "# 8697464\n",
        "sys.getsizeof(b)\n",
        "# 48\n"
      ],
      "execution_count": null,
      "outputs": [
        {
          "output_type": "execute_result",
          "data": {
            "text/plain": [
              "48"
            ]
          },
          "metadata": {
            "tags": []
          },
          "execution_count": 11
        }
      ]
    },
    {
      "cell_type": "code",
      "metadata": {
        "colab": {
          "base_uri": "https://localhost:8080/"
        },
        "id": "OmeQ3QHca0_3",
        "outputId": "316a85bb-16e9-46ee-cc57-51922c2aea18"
      },
      "source": [
        "a = [1, 2, 3, 2, 45, 2, 5]\n",
        "enumerate(a)\n",
        "# [(0, 1), (1, 2), (2, 3), (3, 2), (4, 45), (5, 2), (6, 5)]\n"
      ],
      "execution_count": null,
      "outputs": [
        {
          "output_type": "execute_result",
          "data": {
            "text/plain": [
              "<enumerate at 0x7f1462cb7c80>"
            ]
          },
          "metadata": {
            "tags": []
          },
          "execution_count": 12
        }
      ]
    },
    {
      "cell_type": "code",
      "metadata": {
        "colab": {
          "base_uri": "https://localhost:8080/"
        },
        "id": "LCncqJSya2OE",
        "outputId": "8ef187d9-bc95-4ef7-a8b2-52c645dd34ae"
      },
      "source": [
        "a = ['a1', 'b2', 'c3']\n",
        "# 방법 1: index 루프\n",
        "for i in range(len(a)):\n",
        "  print(i, a[i])\n",
        "\n",
        "# 방법 2: index와 값을 따로 늘리면서 조회\n",
        "i = 0\n",
        "for v in a:\n",
        "  print(i, v)\n",
        "  i += 1\n"
      ],
      "execution_count": null,
      "outputs": [
        {
          "output_type": "stream",
          "text": [
            "0 a1\n",
            "1 b2\n",
            "2 c3\n",
            "0 a1\n",
            "1 b2\n",
            "2 c3\n"
          ],
          "name": "stdout"
        }
      ]
    },
    {
      "cell_type": "code",
      "metadata": {
        "colab": {
          "base_uri": "https://localhost:8080/"
        },
        "id": "ckpSeDLVa6oH",
        "outputId": "071471be-649d-471c-a7bc-ddb8d12c1413"
      },
      "source": [
        "a = ['a1', 'b2', 'c3']\n",
        "# 방법 3: enumerate()를 활용한다\n",
        "b = []\n",
        "for i, v in enumerate(a):\n",
        "  b.append[(i, v)]\n"
      ],
      "execution_count": null,
      "outputs": [
        {
          "output_type": "stream",
          "text": [
            "0 a1\n",
            "1 b2\n",
            "2 c3\n"
          ],
          "name": "stdout"
        }
      ]
    },
    {
      "cell_type": "code",
      "metadata": {
        "colab": {
          "base_uri": "https://localhost:8080/"
        },
        "id": "LZAZtAMSa7wt",
        "outputId": "f2b8f802-780b-4f1c-ef96-f72674950d7c"
      },
      "source": [
        "# 파이썬 3+\n",
        "5 / 3\n",
        "# 1.6666666667\n",
        "\n",
        "# 파이썬 2 이하\n",
        "5 / 3\n",
        "# 1\n"
      ],
      "execution_count": null,
      "outputs": [
        {
          "output_type": "execute_result",
          "data": {
            "text/plain": [
              "1.6666666666666667"
            ]
          },
          "metadata": {
            "tags": []
          },
          "execution_count": 15
        }
      ]
    },
    {
      "cell_type": "code",
      "metadata": {
        "colab": {
          "base_uri": "https://localhost:8080/"
        },
        "id": "5JJbXdHla9HA",
        "outputId": "99b15320-419b-4005-8005-9b60cb679e0d"
      },
      "source": [
        "5 / 3\n",
        "# 1.6666666667\n",
        "5 // 3\n",
        "# 1\n",
        "type(5 // 3)\n",
        "# <class 'int'>\n",
        "type(int(5 / 3))\n",
        "# <class 'int'>\n"
      ],
      "execution_count": null,
      "outputs": [
        {
          "output_type": "execute_result",
          "data": {
            "text/plain": [
              "int"
            ]
          },
          "metadata": {
            "tags": []
          },
          "execution_count": 16
        }
      ]
    },
    {
      "cell_type": "code",
      "metadata": {
        "colab": {
          "base_uri": "https://localhost:8080/"
        },
        "id": "3b3_EK-Za-WN",
        "outputId": "eb4edb50-a4e9-4a09-e206-5b589b49d47e"
      },
      "source": [
        "5 % 3\n"
      ],
      "execution_count": null,
      "outputs": [
        {
          "output_type": "execute_result",
          "data": {
            "text/plain": [
              "2"
            ]
          },
          "metadata": {
            "tags": []
          },
          "execution_count": 17
        }
      ]
    },
    {
      "cell_type": "code",
      "metadata": {
        "colab": {
          "base_uri": "https://localhost:8080/"
        },
        "id": "9dKalDiLa_60",
        "outputId": "e42e3ce4-2b8f-490b-dd9c-1a527d13de96"
      },
      "source": [
        "divmod(5, 3)\n"
      ],
      "execution_count": null,
      "outputs": [
        {
          "output_type": "execute_result",
          "data": {
            "text/plain": [
              "(1, 2)"
            ]
          },
          "metadata": {
            "tags": []
          },
          "execution_count": 18
        }
      ]
    },
    {
      "cell_type": "code",
      "metadata": {
        "colab": {
          "base_uri": "https://localhost:8080/"
        },
        "id": "M3xr3FERbA4b",
        "outputId": "73f9960d-e2eb-4bd6-d023-d97f4ace4513"
      },
      "source": [
        "print('A1', 'B2')\n",
        "# A1 B2\n"
      ],
      "execution_count": null,
      "outputs": [
        {
          "output_type": "stream",
          "text": [
            "A1 B2\n"
          ],
          "name": "stdout"
        }
      ]
    },
    {
      "cell_type": "code",
      "metadata": {
        "colab": {
          "base_uri": "https://localhost:8080/"
        },
        "id": "zThPmK44bCgq",
        "outputId": "2c019477-7ec3-469e-c83e-9478ba2c20d0"
      },
      "source": [
        "print('A1', 'B2', sep=',')\n",
        "# A1,B2\n"
      ],
      "execution_count": null,
      "outputs": [
        {
          "output_type": "stream",
          "text": [
            "A1,B2\n"
          ],
          "name": "stdout"
        }
      ]
    },
    {
      "cell_type": "code",
      "metadata": {
        "colab": {
          "base_uri": "https://localhost:8080/"
        },
        "id": "c66A1nKHbEtb",
        "outputId": "5ab5ce82-439a-40c1-a2ed-67238e0da01a"
      },
      "source": [
        "# for문 돌면서 . 찍을 때 줄바꿈하면 출력물이 길어져 아래 문법 많이 사용\n",
        "print('aa', end=' ')\n",
        "print('bb')\n",
        "# aa bb\n"
      ],
      "execution_count": null,
      "outputs": [
        {
          "output_type": "stream",
          "text": [
            "aa bb\n"
          ],
          "name": "stdout"
        }
      ]
    },
    {
      "cell_type": "code",
      "metadata": {
        "colab": {
          "base_uri": "https://localhost:8080/"
        },
        "id": "uMWpOlP7bGGj",
        "outputId": "f68d031a-b310-4a11-b9b6-39c5be3a0c46"
      },
      "source": [
        "# list의 원소를 query로 조회하기 쉽게 변환할 때 join 많이 사용\n",
        "a = ['A', 'B']\n",
        "print(' '.join(a))\n",
        "# A B\n"
      ],
      "execution_count": null,
      "outputs": [
        {
          "output_type": "stream",
          "text": [
            "A B\n"
          ],
          "name": "stdout"
        }
      ]
    },
    {
      "cell_type": "code",
      "metadata": {
        "colab": {
          "base_uri": "https://localhost:8080/"
        },
        "id": "C7l1t3b9bG_U",
        "outputId": "f926f2d8-7c7a-4dfa-f7da-671421838856"
      },
      "source": [
        "idx = 1\n",
        "fruit = \"Apple\"\n",
        "# 방법 1: format을 사용한다.\n",
        "print('{0}: {1}'.format(idx+1, fruit))\n",
        "# 2: Apple\n",
        "\n",
        "# 방법 2: format을 사용한다. 인덱스를 생략할 수도 있다.\n",
        "print('{}: {}'.format(idx+1, fruit))\n",
        "# 2: Apple\n"
      ],
      "execution_count": null,
      "outputs": [
        {
          "output_type": "stream",
          "text": [
            "2: Apple\n",
            "2: Apple\n"
          ],
          "name": "stdout"
        }
      ]
    },
    {
      "cell_type": "code",
      "metadata": {
        "colab": {
          "base_uri": "https://localhost:8080/"
        },
        "id": "rO9-OCbHbH_6",
        "outputId": "76ee2f7c-55d8-4d89-f220-e5ce662da481"
      },
      "source": [
        "idx = 1\n",
        "fruit = \"Apple\"\n",
        "\n",
        "# 방법 3: f-string을 사용한다(추천)\n",
        "print(f'{idx+1}: {fruit}')\n",
        "# 2: Apple\n"
      ],
      "execution_count": null,
      "outputs": [
        {
          "output_type": "stream",
          "text": [
            "2: Apple\n"
          ],
          "name": "stdout"
        }
      ]
    },
    {
      "cell_type": "code",
      "metadata": {
        "colab": {
          "base_uri": "https://localhost:8080/",
          "height": 130
        },
        "id": "HTf8YbhDbJS3",
        "outputId": "83b0ce63-02ed-4b88-c57a-6464fd1cc2f0"
      },
      "source": [
        "# class name에만 camel case\n",
        "class MyClass(object):\n",
        "  def method_a(self):\n",
        "\n",
        "  def method_b(self):\n",
        "    print(\"Method B\")\n",
        "\n",
        "c = MyClass()\n",
        "# 이 클래스는 실행되지 않고 다음과 같이 인덴트 오류가 발생한다.\n",
        "# IndentationError\n"
      ],
      "execution_count": null,
      "outputs": [
        {
          "output_type": "error",
          "ename": "IndentationError",
          "evalue": "ignored",
          "traceback": [
            "\u001b[0;36m  File \u001b[0;32m\"<ipython-input-25-05439e55931f>\"\u001b[0;36m, line \u001b[0;32m4\u001b[0m\n\u001b[0;31m    def method_b(self):\u001b[0m\n\u001b[0m      ^\u001b[0m\n\u001b[0;31mIndentationError\u001b[0m\u001b[0;31m:\u001b[0m expected an indented block\n"
          ]
        }
      ]
    },
    {
      "cell_type": "code",
      "metadata": {
        "id": "aBvtx-LJbKqD"
      },
      "source": [
        "class MyClass(object):\n",
        "  def method_a(self):\n",
        "    # 여기에 pass를 넣는다. pass는 아무 것도 하지 않는 기능이다. \n",
        "    pass\n",
        "\n",
        "  def method_b(self):\n",
        "    print(\"Method B\")\n",
        "\n",
        "c = MyClass()\n"
      ],
      "execution_count": null,
      "outputs": []
    },
    {
      "cell_type": "code",
      "metadata": {
        "colab": {
          "base_uri": "https://localhost:8080/"
        },
        "id": "1X5VcQJvbN5h",
        "outputId": "54c2800b-fc04-4c0e-f6ea-eb3887d0a51b"
      },
      "source": [
        "# locals로 지정한 변수들을 확인할 수 있어 디버깅에 활용\n",
        "import pprint\n",
        "pprint.pprint(locals())\n",
        "# pprint로 출력하게 되면 보기 좋게 줄바꿈을 해주기 때문에 가독성이 좋다. "
      ],
      "execution_count": null,
      "outputs": [
        {
          "output_type": "stream",
          "text": [
            "{'In': ['',\n",
            "        'def long_function_name(\\n'\n",
            "        '        var_one, var_two, var_three,\\n'\n",
            "        '        var_four):\\n'\n",
            "        '    print(var_one)',\n",
            "        'def long_function_name(\\n'\n",
            "        '        var_one, var_two, var_three,\\n'\n",
            "        '        var_four):\\n'\n",
            "        '    print(var_one)',\n",
            "        '# 카멜 케이스\\ncamelCase: int = 1\\n# 스네이크 케이스\\nsnake_case: int = 1',\n",
            "        'def get_natural_number():\\n'\n",
            "        '  n = 0\\n'\n",
            "        '  while True:\\n'\n",
            "        '    n += 1\\n'\n",
            "        '    yield n',\n",
            "        'g = get_natural_number()\\nfor _ in range(0, 100):\\n  print(next(g))',\n",
            "        'g = get_natural_number()\\nfor _ in range(0, 10):\\n  print(next(g))',\n",
            "        'list(range(5))\\n'\n",
            "        '# [0, 1, 2, 3, 4]\\n'\n",
            "        'range(5)\\n'\n",
            "        '# range(0, 5)\\n'\n",
            "        'type(range(5))\\n'\n",
            "        \"# <class 'range'>\\n\"\n",
            "        'for i in range(5):\\n'\n",
            "        \"  print(i, end=' ')\\n\"\n",
            "        '# 0 1 2 3 4',\n",
            "        'a = [n for n in range(1000000)]\\n'\n",
            "        'b = range(1000000)\\n'\n",
            "        '\\n'\n",
            "        'len(a)\\n'\n",
            "        '# 1000000\\n'\n",
            "        'len(b)\\n'\n",
            "        '# 1000000\\n'\n",
            "        'len(a) == len(b)\\n'\n",
            "        '# True',\n",
            "        'a = [n for n in range(1000000)]\\n'\n",
            "        'b = range(1000000)\\n'\n",
            "        '\\n'\n",
            "        'sys.getsizeof(a)\\n'\n",
            "        '# 8697464\\n'\n",
            "        'sys.getsizeof(b)\\n'\n",
            "        '# 48',\n",
            "        'a = [1, 2, 3, 2, 45, 2, 5]\\n'\n",
            "        'enumerate(a)\\n'\n",
            "        '# [(0, 1), (1, 2), (2, 3), (3, 2), (4, 45), (5, 2), (6, 5)]',\n",
            "        'import sys\\n'\n",
            "        'a = [n for n in range(1000000)]\\n'\n",
            "        'b = range(1000000)\\n'\n",
            "        '\\n'\n",
            "        'sys.getsizeof(a)\\n'\n",
            "        '# 8697464\\n'\n",
            "        'sys.getsizeof(b)\\n'\n",
            "        '# 48',\n",
            "        'a = [1, 2, 3, 2, 45, 2, 5]\\n'\n",
            "        'enumerate(a)\\n'\n",
            "        '# [(0, 1), (1, 2), (2, 3), (3, 2), (4, 45), (5, 2), (6, 5)]',\n",
            "        \"a = ['a1', 'b2', 'c3']\\n\"\n",
            "        '# 방법 1: index 루프\\n'\n",
            "        'for i in range(len(a)):\\n'\n",
            "        '  print(i, a[i])\\n'\n",
            "        '\\n'\n",
            "        '# 방법 2: index와 값을 따로 늘리면서 조회\\n'\n",
            "        'i = 0\\n'\n",
            "        'for v in a:\\n'\n",
            "        '  print(i, v)\\n'\n",
            "        '  i += 1',\n",
            "        \"a = ['a1', 'b2', 'c3']\\n\"\n",
            "        '# 방법 3: enumerate()를 활용한다\\n'\n",
            "        'for i, v in enumerate(a):\\n'\n",
            "        '  print(i, v)',\n",
            "        '# 파이썬 3+\\n5 / 3\\n# 1.6666666667\\n\\n# 파이썬 2 이하\\n5 / 3\\n# 1',\n",
            "        '5 / 3\\n'\n",
            "        '# 1.6666666667\\n'\n",
            "        '5 // 3\\n'\n",
            "        '# 1\\n'\n",
            "        'type(5 // 3)\\n'\n",
            "        \"# <class 'int'>\\n\"\n",
            "        'type(int(5 / 3))\\n'\n",
            "        \"# <class 'int'>\",\n",
            "        '5 % 3',\n",
            "        'divmod(5, 3)',\n",
            "        \"print('A1', 'B2')\\n# A1 B2\",\n",
            "        \"print('A1', 'B2', sep=',')\\n# A1,B2\",\n",
            "        \"print('aa', end=' ')\\nprint('bb')\\n# aa bb\",\n",
            "        \"a = ['A', 'B']\\nprint(' '.join(a))\\n# A B\",\n",
            "        'idx = 1\\n'\n",
            "        'fruit = \"Apple\"\\n'\n",
            "        '# 방법 1: format을 사용한다.\\n'\n",
            "        \"print('{0}: {1}'.format(idx+1, fruit))\\n\"\n",
            "        '# 2: Apple\\n'\n",
            "        '\\n'\n",
            "        '# 방법 2: format을 사용한다. 인덱스를 생략할 수도 있다.\\n'\n",
            "        \"print('{}: {}'.format(idx+1, fruit))\\n\"\n",
            "        '# 2: Apple',\n",
            "        'idx = 1\\n'\n",
            "        'fruit = \"Apple\"\\n'\n",
            "        '\\n'\n",
            "        '# 방법 3: f-string을 사용한다\\n'\n",
            "        \"print(f'{idx+1}: {fruit}')\\n\"\n",
            "        '# 2: Apple',\n",
            "        'class MyClass(object):\\n'\n",
            "        '  def method_a(self):\\n'\n",
            "        '\\n'\n",
            "        '  def method_b(self):\\n'\n",
            "        '    print(\"Method B\")\\n'\n",
            "        '\\n'\n",
            "        'c = MyClass()\\n'\n",
            "        '# 이 클래스는 실행되지 않고 다음과 같이 인덴트 오류가 발생한다.\\n'\n",
            "        '# IndentationError',\n",
            "        'class MyClass(object):\\n'\n",
            "        '  def method_a(self):\\n'\n",
            "        '    # 여기에 pass를 넣는다. pass는 아무 것도 하지 않는 기능이다. \\n'\n",
            "        '    pass\\n'\n",
            "        '\\n'\n",
            "        '  def method_b(self):\\n'\n",
            "        '    print(\"Method B\")\\n'\n",
            "        '\\n'\n",
            "        'c = MyClass()',\n",
            "        'import pprint\\n'\n",
            "        'pprint.pprint(locals())\\n'\n",
            "        '# pprint로 출력하게 되면 보기 좋게 줄바꿈을 해주기 때문에 가독성이 좋다. \\n'\n",
            "        '{\\n'\n",
            "        \"  'nums': [2, 7, 11, 15], \\n\"\n",
            "        \"  'pprint': <module 'pprint' from '/usr/lib/python3.8/pprint.py'>, \\n\"\n",
            "        \"  'self': <__main__.Solution object at 0x7fdb1bb63dc0>, \\n\"\n",
            "        \"  'target': 9\\n\"\n",
            "        '}',\n",
            "        'a = 33\\nb = 200\\nif b > a:\\n  print(\"b is greater than a\")',\n",
            "        'import pprint\\n'\n",
            "        'pprint.pprint(locals())\\n'\n",
            "        '# pprint로 출력하게 되면 보기 좋게 줄바꿈을 해주기 때문에 가독성이 좋다. '],\n",
            " 'MyClass': <class '__main__.MyClass'>,\n",
            " 'Out': {8: True,\n",
            "         10: <enumerate object at 0x7f145e62ed20>,\n",
            "         11: 48,\n",
            "         12: <enumerate object at 0x7f1462cb7c80>,\n",
            "         15: 1.6666666666666667,\n",
            "         16: <class 'int'>,\n",
            "         17: 2,\n",
            "         18: (1, 2)},\n",
            " '_': (1, 2),\n",
            " '_10': <enumerate object at 0x7f145e62ed20>,\n",
            " '_11': 48,\n",
            " '_12': <enumerate object at 0x7f1462cb7c80>,\n",
            " '_15': 1.6666666666666667,\n",
            " '_16': <class 'int'>,\n",
            " '_17': 2,\n",
            " '_18': (1, 2),\n",
            " '_8': True,\n",
            " '__': 2,\n",
            " '___': <class 'int'>,\n",
            " '__annotations__': {'camelCase': <class 'int'>, 'snake_case': <class 'int'>},\n",
            " '__builtin__': <module 'builtins' (built-in)>,\n",
            " '__builtins__': <module 'builtins' (built-in)>,\n",
            " '__doc__': 'Automatically created module for IPython interactive environment',\n",
            " '__loader__': None,\n",
            " '__name__': '__main__',\n",
            " '__package__': None,\n",
            " '__spec__': None,\n",
            " '_dh': ['/content'],\n",
            " '_i': 'a = 33\\nb = 200\\nif b > a:\\n  print(\"b is greater than a\")',\n",
            " '_i1': 'def long_function_name(\\n'\n",
            "        '        var_one, var_two, var_three,\\n'\n",
            "        '        var_four):\\n'\n",
            "        '    print(var_one)',\n",
            " '_i10': 'a = [1, 2, 3, 2, 45, 2, 5]\\n'\n",
            "         'enumerate(a)\\n'\n",
            "         '# [(0, 1), (1, 2), (2, 3), (3, 2), (4, 45), (5, 2), (6, 5)]',\n",
            " '_i11': 'import sys\\n'\n",
            "         'a = [n for n in range(1000000)]\\n'\n",
            "         'b = range(1000000)\\n'\n",
            "         '\\n'\n",
            "         'sys.getsizeof(a)\\n'\n",
            "         '# 8697464\\n'\n",
            "         'sys.getsizeof(b)\\n'\n",
            "         '# 48',\n",
            " '_i12': 'a = [1, 2, 3, 2, 45, 2, 5]\\n'\n",
            "         'enumerate(a)\\n'\n",
            "         '# [(0, 1), (1, 2), (2, 3), (3, 2), (4, 45), (5, 2), (6, 5)]',\n",
            " '_i13': \"a = ['a1', 'b2', 'c3']\\n\"\n",
            "         '# 방법 1: index 루프\\n'\n",
            "         'for i in range(len(a)):\\n'\n",
            "         '  print(i, a[i])\\n'\n",
            "         '\\n'\n",
            "         '# 방법 2: index와 값을 따로 늘리면서 조회\\n'\n",
            "         'i = 0\\n'\n",
            "         'for v in a:\\n'\n",
            "         '  print(i, v)\\n'\n",
            "         '  i += 1',\n",
            " '_i14': \"a = ['a1', 'b2', 'c3']\\n\"\n",
            "         '# 방법 3: enumerate()를 활용한다\\n'\n",
            "         'for i, v in enumerate(a):\\n'\n",
            "         '  print(i, v)',\n",
            " '_i15': '# 파이썬 3+\\n5 / 3\\n# 1.6666666667\\n\\n# 파이썬 2 이하\\n5 / 3\\n# 1',\n",
            " '_i16': '5 / 3\\n'\n",
            "         '# 1.6666666667\\n'\n",
            "         '5 // 3\\n'\n",
            "         '# 1\\n'\n",
            "         'type(5 // 3)\\n'\n",
            "         \"# <class 'int'>\\n\"\n",
            "         'type(int(5 / 3))\\n'\n",
            "         \"# <class 'int'>\",\n",
            " '_i17': '5 % 3',\n",
            " '_i18': 'divmod(5, 3)',\n",
            " '_i19': \"print('A1', 'B2')\\n# A1 B2\",\n",
            " '_i2': 'def long_function_name(\\n'\n",
            "        '        var_one, var_two, var_three,\\n'\n",
            "        '        var_four):\\n'\n",
            "        '    print(var_one)',\n",
            " '_i20': \"print('A1', 'B2', sep=',')\\n# A1,B2\",\n",
            " '_i21': \"print('aa', end=' ')\\nprint('bb')\\n# aa bb\",\n",
            " '_i22': \"a = ['A', 'B']\\nprint(' '.join(a))\\n# A B\",\n",
            " '_i23': 'idx = 1\\n'\n",
            "         'fruit = \"Apple\"\\n'\n",
            "         '# 방법 1: format을 사용한다.\\n'\n",
            "         \"print('{0}: {1}'.format(idx+1, fruit))\\n\"\n",
            "         '# 2: Apple\\n'\n",
            "         '\\n'\n",
            "         '# 방법 2: format을 사용한다. 인덱스를 생략할 수도 있다.\\n'\n",
            "         \"print('{}: {}'.format(idx+1, fruit))\\n\"\n",
            "         '# 2: Apple',\n",
            " '_i24': 'idx = 1\\n'\n",
            "         'fruit = \"Apple\"\\n'\n",
            "         '\\n'\n",
            "         '# 방법 3: f-string을 사용한다\\n'\n",
            "         \"print(f'{idx+1}: {fruit}')\\n\"\n",
            "         '# 2: Apple',\n",
            " '_i25': 'class MyClass(object):\\n'\n",
            "         '  def method_a(self):\\n'\n",
            "         '\\n'\n",
            "         '  def method_b(self):\\n'\n",
            "         '    print(\"Method B\")\\n'\n",
            "         '\\n'\n",
            "         'c = MyClass()\\n'\n",
            "         '# 이 클래스는 실행되지 않고 다음과 같이 인덴트 오류가 발생한다.\\n'\n",
            "         '# IndentationError',\n",
            " '_i26': 'class MyClass(object):\\n'\n",
            "         '  def method_a(self):\\n'\n",
            "         '    # 여기에 pass를 넣는다. pass는 아무 것도 하지 않는 기능이다. \\n'\n",
            "         '    pass\\n'\n",
            "         '\\n'\n",
            "         '  def method_b(self):\\n'\n",
            "         '    print(\"Method B\")\\n'\n",
            "         '\\n'\n",
            "         'c = MyClass()',\n",
            " '_i27': 'import pprint\\n'\n",
            "         'pprint.pprint(locals())\\n'\n",
            "         '# pprint로 출력하게 되면 보기 좋게 줄바꿈을 해주기 때문에 가독성이 좋다. \\n'\n",
            "         '{\\n'\n",
            "         \"  'nums': [2, 7, 11, 15], \\n\"\n",
            "         \"  'pprint': <module 'pprint' from '/usr/lib/python3.8/pprint.py'>, \\n\"\n",
            "         \"  'self': <__main__.Solution object at 0x7fdb1bb63dc0>, \\n\"\n",
            "         \"  'target': 9\\n\"\n",
            "         '}',\n",
            " '_i28': 'a = 33\\nb = 200\\nif b > a:\\n  print(\"b is greater than a\")',\n",
            " '_i29': 'import pprint\\n'\n",
            "         'pprint.pprint(locals())\\n'\n",
            "         '# pprint로 출력하게 되면 보기 좋게 줄바꿈을 해주기 때문에 가독성이 좋다. ',\n",
            " '_i3': '# 카멜 케이스\\ncamelCase: int = 1\\n# 스네이크 케이스\\nsnake_case: int = 1',\n",
            " '_i4': 'def get_natural_number():\\n'\n",
            "        '  n = 0\\n'\n",
            "        '  while True:\\n'\n",
            "        '    n += 1\\n'\n",
            "        '    yield n',\n",
            " '_i5': 'g = get_natural_number()\\nfor _ in range(0, 100):\\n  print(next(g))',\n",
            " '_i6': 'g = get_natural_number()\\nfor _ in range(0, 10):\\n  print(next(g))',\n",
            " '_i7': 'list(range(5))\\n'\n",
            "        '# [0, 1, 2, 3, 4]\\n'\n",
            "        'range(5)\\n'\n",
            "        '# range(0, 5)\\n'\n",
            "        'type(range(5))\\n'\n",
            "        \"# <class 'range'>\\n\"\n",
            "        'for i in range(5):\\n'\n",
            "        \"  print(i, end=' ')\\n\"\n",
            "        '# 0 1 2 3 4',\n",
            " '_i8': 'a = [n for n in range(1000000)]\\n'\n",
            "        'b = range(1000000)\\n'\n",
            "        '\\n'\n",
            "        'len(a)\\n'\n",
            "        '# 1000000\\n'\n",
            "        'len(b)\\n'\n",
            "        '# 1000000\\n'\n",
            "        'len(a) == len(b)\\n'\n",
            "        '# True',\n",
            " '_i9': 'a = [n for n in range(1000000)]\\n'\n",
            "        'b = range(1000000)\\n'\n",
            "        '\\n'\n",
            "        'sys.getsizeof(a)\\n'\n",
            "        '# 8697464\\n'\n",
            "        'sys.getsizeof(b)\\n'\n",
            "        '# 48',\n",
            " '_ih': ['',\n",
            "         'def long_function_name(\\n'\n",
            "         '        var_one, var_two, var_three,\\n'\n",
            "         '        var_four):\\n'\n",
            "         '    print(var_one)',\n",
            "         'def long_function_name(\\n'\n",
            "         '        var_one, var_two, var_three,\\n'\n",
            "         '        var_four):\\n'\n",
            "         '    print(var_one)',\n",
            "         '# 카멜 케이스\\ncamelCase: int = 1\\n# 스네이크 케이스\\nsnake_case: int = 1',\n",
            "         'def get_natural_number():\\n'\n",
            "         '  n = 0\\n'\n",
            "         '  while True:\\n'\n",
            "         '    n += 1\\n'\n",
            "         '    yield n',\n",
            "         'g = get_natural_number()\\nfor _ in range(0, 100):\\n  print(next(g))',\n",
            "         'g = get_natural_number()\\nfor _ in range(0, 10):\\n  print(next(g))',\n",
            "         'list(range(5))\\n'\n",
            "         '# [0, 1, 2, 3, 4]\\n'\n",
            "         'range(5)\\n'\n",
            "         '# range(0, 5)\\n'\n",
            "         'type(range(5))\\n'\n",
            "         \"# <class 'range'>\\n\"\n",
            "         'for i in range(5):\\n'\n",
            "         \"  print(i, end=' ')\\n\"\n",
            "         '# 0 1 2 3 4',\n",
            "         'a = [n for n in range(1000000)]\\n'\n",
            "         'b = range(1000000)\\n'\n",
            "         '\\n'\n",
            "         'len(a)\\n'\n",
            "         '# 1000000\\n'\n",
            "         'len(b)\\n'\n",
            "         '# 1000000\\n'\n",
            "         'len(a) == len(b)\\n'\n",
            "         '# True',\n",
            "         'a = [n for n in range(1000000)]\\n'\n",
            "         'b = range(1000000)\\n'\n",
            "         '\\n'\n",
            "         'sys.getsizeof(a)\\n'\n",
            "         '# 8697464\\n'\n",
            "         'sys.getsizeof(b)\\n'\n",
            "         '# 48',\n",
            "         'a = [1, 2, 3, 2, 45, 2, 5]\\n'\n",
            "         'enumerate(a)\\n'\n",
            "         '# [(0, 1), (1, 2), (2, 3), (3, 2), (4, 45), (5, 2), (6, 5)]',\n",
            "         'import sys\\n'\n",
            "         'a = [n for n in range(1000000)]\\n'\n",
            "         'b = range(1000000)\\n'\n",
            "         '\\n'\n",
            "         'sys.getsizeof(a)\\n'\n",
            "         '# 8697464\\n'\n",
            "         'sys.getsizeof(b)\\n'\n",
            "         '# 48',\n",
            "         'a = [1, 2, 3, 2, 45, 2, 5]\\n'\n",
            "         'enumerate(a)\\n'\n",
            "         '# [(0, 1), (1, 2), (2, 3), (3, 2), (4, 45), (5, 2), (6, 5)]',\n",
            "         \"a = ['a1', 'b2', 'c3']\\n\"\n",
            "         '# 방법 1: index 루프\\n'\n",
            "         'for i in range(len(a)):\\n'\n",
            "         '  print(i, a[i])\\n'\n",
            "         '\\n'\n",
            "         '# 방법 2: index와 값을 따로 늘리면서 조회\\n'\n",
            "         'i = 0\\n'\n",
            "         'for v in a:\\n'\n",
            "         '  print(i, v)\\n'\n",
            "         '  i += 1',\n",
            "         \"a = ['a1', 'b2', 'c3']\\n\"\n",
            "         '# 방법 3: enumerate()를 활용한다\\n'\n",
            "         'for i, v in enumerate(a):\\n'\n",
            "         '  print(i, v)',\n",
            "         '# 파이썬 3+\\n5 / 3\\n# 1.6666666667\\n\\n# 파이썬 2 이하\\n5 / 3\\n# 1',\n",
            "         '5 / 3\\n'\n",
            "         '# 1.6666666667\\n'\n",
            "         '5 // 3\\n'\n",
            "         '# 1\\n'\n",
            "         'type(5 // 3)\\n'\n",
            "         \"# <class 'int'>\\n\"\n",
            "         'type(int(5 / 3))\\n'\n",
            "         \"# <class 'int'>\",\n",
            "         '5 % 3',\n",
            "         'divmod(5, 3)',\n",
            "         \"print('A1', 'B2')\\n# A1 B2\",\n",
            "         \"print('A1', 'B2', sep=',')\\n# A1,B2\",\n",
            "         \"print('aa', end=' ')\\nprint('bb')\\n# aa bb\",\n",
            "         \"a = ['A', 'B']\\nprint(' '.join(a))\\n# A B\",\n",
            "         'idx = 1\\n'\n",
            "         'fruit = \"Apple\"\\n'\n",
            "         '# 방법 1: format을 사용한다.\\n'\n",
            "         \"print('{0}: {1}'.format(idx+1, fruit))\\n\"\n",
            "         '# 2: Apple\\n'\n",
            "         '\\n'\n",
            "         '# 방법 2: format을 사용한다. 인덱스를 생략할 수도 있다.\\n'\n",
            "         \"print('{}: {}'.format(idx+1, fruit))\\n\"\n",
            "         '# 2: Apple',\n",
            "         'idx = 1\\n'\n",
            "         'fruit = \"Apple\"\\n'\n",
            "         '\\n'\n",
            "         '# 방법 3: f-string을 사용한다\\n'\n",
            "         \"print(f'{idx+1}: {fruit}')\\n\"\n",
            "         '# 2: Apple',\n",
            "         'class MyClass(object):\\n'\n",
            "         '  def method_a(self):\\n'\n",
            "         '\\n'\n",
            "         '  def method_b(self):\\n'\n",
            "         '    print(\"Method B\")\\n'\n",
            "         '\\n'\n",
            "         'c = MyClass()\\n'\n",
            "         '# 이 클래스는 실행되지 않고 다음과 같이 인덴트 오류가 발생한다.\\n'\n",
            "         '# IndentationError',\n",
            "         'class MyClass(object):\\n'\n",
            "         '  def method_a(self):\\n'\n",
            "         '    # 여기에 pass를 넣는다. pass는 아무 것도 하지 않는 기능이다. \\n'\n",
            "         '    pass\\n'\n",
            "         '\\n'\n",
            "         '  def method_b(self):\\n'\n",
            "         '    print(\"Method B\")\\n'\n",
            "         '\\n'\n",
            "         'c = MyClass()',\n",
            "         'import pprint\\n'\n",
            "         'pprint.pprint(locals())\\n'\n",
            "         '# pprint로 출력하게 되면 보기 좋게 줄바꿈을 해주기 때문에 가독성이 좋다. \\n'\n",
            "         '{\\n'\n",
            "         \"  'nums': [2, 7, 11, 15], \\n\"\n",
            "         \"  'pprint': <module 'pprint' from '/usr/lib/python3.8/pprint.py'>, \\n\"\n",
            "         \"  'self': <__main__.Solution object at 0x7fdb1bb63dc0>, \\n\"\n",
            "         \"  'target': 9\\n\"\n",
            "         '}',\n",
            "         'a = 33\\nb = 200\\nif b > a:\\n  print(\"b is greater than a\")',\n",
            "         'import pprint\\n'\n",
            "         'pprint.pprint(locals())\\n'\n",
            "         '# pprint로 출력하게 되면 보기 좋게 줄바꿈을 해주기 때문에 가독성이 좋다. '],\n",
            " '_ii': 'import pprint\\n'\n",
            "        'pprint.pprint(locals())\\n'\n",
            "        '# pprint로 출력하게 되면 보기 좋게 줄바꿈을 해주기 때문에 가독성이 좋다. \\n'\n",
            "        '{\\n'\n",
            "        \"  'nums': [2, 7, 11, 15], \\n\"\n",
            "        \"  'pprint': <module 'pprint' from '/usr/lib/python3.8/pprint.py'>, \\n\"\n",
            "        \"  'self': <__main__.Solution object at 0x7fdb1bb63dc0>, \\n\"\n",
            "        \"  'target': 9\\n\"\n",
            "        '}',\n",
            " '_iii': 'class MyClass(object):\\n'\n",
            "         '  def method_a(self):\\n'\n",
            "         '    # 여기에 pass를 넣는다. pass는 아무 것도 하지 않는 기능이다. \\n'\n",
            "         '    pass\\n'\n",
            "         '\\n'\n",
            "         '  def method_b(self):\\n'\n",
            "         '    print(\"Method B\")\\n'\n",
            "         '\\n'\n",
            "         'c = MyClass()',\n",
            " '_oh': {8: True,\n",
            "         10: <enumerate object at 0x7f145e62ed20>,\n",
            "         11: 48,\n",
            "         12: <enumerate object at 0x7f1462cb7c80>,\n",
            "         15: 1.6666666666666667,\n",
            "         16: <class 'int'>,\n",
            "         17: 2,\n",
            "         18: (1, 2)},\n",
            " '_sh': <module 'IPython.core.shadowns' from '/usr/local/lib/python3.7/dist-packages/IPython/core/shadowns.py'>,\n",
            " 'a': 33,\n",
            " 'b': 200,\n",
            " 'c': <__main__.MyClass object at 0x7f145e637890>,\n",
            " 'camelCase': 1,\n",
            " 'exit': <IPython.core.autocall.ZMQExitAutocall object at 0x7f1465271510>,\n",
            " 'fruit': 'Apple',\n",
            " 'g': <generator object get_natural_number at 0x7f1462445450>,\n",
            " 'get_ipython': <bound method InteractiveShell.get_ipython of <google.colab._shell.Shell object at 0x7f1467ad5150>>,\n",
            " 'get_natural_number': <function get_natural_number at 0x7f1462473170>,\n",
            " 'i': 2,\n",
            " 'idx': 1,\n",
            " 'long_function_name': <function long_function_name at 0x7f1462cb3f80>,\n",
            " 'pprint': <module 'pprint' from '/usr/lib/python3.7/pprint.py'>,\n",
            " 'quit': <IPython.core.autocall.ZMQExitAutocall object at 0x7f1465271510>,\n",
            " 'snake_case': 1,\n",
            " 'sys': <module 'sys' (built-in)>,\n",
            " 'v': 'c3'}\n"
          ],
          "name": "stdout"
        }
      ]
    },
    {
      "cell_type": "code",
      "metadata": {
        "colab": {
          "base_uri": "https://localhost:8080/"
        },
        "id": "AwoDZEFfbPcd",
        "outputId": "1b28237e-d42d-4d20-96d8-75550da5f94e"
      },
      "source": [
        "a = 33\n",
        "b = 200\n",
        "if b > a:\n",
        "  print(\"b is greater than a\")\n"
      ],
      "execution_count": null,
      "outputs": [
        {
          "output_type": "stream",
          "text": [
            "b is greater than a\n"
          ],
          "name": "stdout"
        }
      ]
    },
    {
      "cell_type": "code",
      "metadata": {
        "colab": {
          "base_uri": "https://localhost:8080/"
        },
        "id": "ix6MeHUNbVCh",
        "outputId": "648e2918-060e-47eb-cb8e-c108f938a30b"
      },
      "source": [
        "a = 33\n",
        "b = 33\n",
        "if b > a:\n",
        "  print(\"b is greater than a\")\n",
        "elif a == b:\n",
        "  print(\"a and b are equal\")\n"
      ],
      "execution_count": null,
      "outputs": [
        {
          "output_type": "stream",
          "text": [
            "a and b are equal\n"
          ],
          "name": "stdout"
        }
      ]
    },
    {
      "cell_type": "code",
      "metadata": {
        "colab": {
          "base_uri": "https://localhost:8080/"
        },
        "id": "XPOTItklbaIl",
        "outputId": "9e523baa-37fc-4f0a-c679-e991f52fd6ef"
      },
      "source": [
        "# if, elif, else : 전통적인 rule-based programming\n",
        "a = 200\n",
        "b = 33\n",
        "if b > a:\n",
        "  print(\"b is greater than a\")\n",
        "elif a == b:\n",
        "  print(\"a and b are equal\")\n",
        "else:\n",
        "  print(\"a is greater than b\")\n"
      ],
      "execution_count": null,
      "outputs": [
        {
          "output_type": "stream",
          "text": [
            "a is greater than b\n"
          ],
          "name": "stdout"
        }
      ]
    },
    {
      "cell_type": "code",
      "metadata": {
        "colab": {
          "base_uri": "https://localhost:8080/"
        },
        "id": "bqMP6qz-bblK",
        "outputId": "c828a757-ae16-47ef-ea49-4336a3c39e27"
      },
      "source": [
        "if a > b: print(\"a is greater than b\")\n"
      ],
      "execution_count": null,
      "outputs": [
        {
          "output_type": "stream",
          "text": [
            "a is greater than b\n"
          ],
          "name": "stdout"
        }
      ]
    },
    {
      "cell_type": "code",
      "metadata": {
        "colab": {
          "base_uri": "https://localhost:8080/"
        },
        "id": "Sos21AKVbeVM",
        "outputId": "2c9dc2a2-cf6b-4d1a-8b79-fdc3c0a0cd38"
      },
      "source": [
        "a = 2\n",
        "b = 330\n",
        "print(\"A\") if a > b else print(\"B\")\n"
      ],
      "execution_count": null,
      "outputs": [
        {
          "output_type": "stream",
          "text": [
            "B\n"
          ],
          "name": "stdout"
        }
      ]
    },
    {
      "cell_type": "code",
      "metadata": {
        "colab": {
          "base_uri": "https://localhost:8080/"
        },
        "id": "LRYFyR1xbfth",
        "outputId": "b14b4f41-5263-44c8-f833-1171ed1d8e35"
      },
      "source": [
        "i = 1\n",
        "while i < 6:\n",
        "  print(i)\n",
        "  i += 1\n"
      ],
      "execution_count": null,
      "outputs": [
        {
          "output_type": "stream",
          "text": [
            "1\n",
            "2\n",
            "3\n",
            "4\n",
            "5\n"
          ],
          "name": "stdout"
        }
      ]
    },
    {
      "cell_type": "code",
      "metadata": {
        "colab": {
          "base_uri": "https://localhost:8080/"
        },
        "id": "urcUsqQYbhN0",
        "outputId": "c0d7167f-e3de-4938-ff86-b0bbf179b50d"
      },
      "source": [
        "i = 1\n",
        "while i < 6:\n",
        "  print(i)\n",
        "  if i == 3:\n",
        "    break\n",
        "  i += 1\n"
      ],
      "execution_count": null,
      "outputs": [
        {
          "output_type": "stream",
          "text": [
            "1\n",
            "2\n",
            "3\n"
          ],
          "name": "stdout"
        }
      ]
    },
    {
      "cell_type": "code",
      "metadata": {
        "colab": {
          "base_uri": "https://localhost:8080/"
        },
        "id": "cxMO-dB4bil9",
        "outputId": "db625d1f-33b6-4758-e33e-0d450060d5ed"
      },
      "source": [
        "i = 0\n",
        "while i < 6:\n",
        "  i += 1\n",
        "  if i == 3:\n",
        "    continue\n",
        "  print(i)\n"
      ],
      "execution_count": null,
      "outputs": [
        {
          "output_type": "stream",
          "text": [
            "1\n",
            "2\n",
            "4\n",
            "5\n",
            "6\n"
          ],
          "name": "stdout"
        }
      ]
    },
    {
      "cell_type": "code",
      "metadata": {
        "colab": {
          "base_uri": "https://localhost:8080/"
        },
        "id": "VNvFBz_qbjqH",
        "outputId": "ff5dadc3-ae50-4072-a8e7-1d461d81ab80"
      },
      "source": [
        "i = 1\n",
        "while i < 6:\n",
        "  print(i)\n",
        "  i += 1\n",
        "else:\n",
        "  print(\"i is no longer less than 6\")\n"
      ],
      "execution_count": null,
      "outputs": [
        {
          "output_type": "stream",
          "text": [
            "1\n",
            "2\n",
            "3\n",
            "4\n",
            "5\n",
            "i is no longer less than 6\n"
          ],
          "name": "stdout"
        }
      ]
    },
    {
      "cell_type": "code",
      "metadata": {
        "colab": {
          "base_uri": "https://localhost:8080/"
        },
        "id": "1umLptXJbkuE",
        "outputId": "f3d79034-7709-4fff-9dd5-8c9f747091ad"
      },
      "source": [
        "# for _ in \"banana\" : under bar는 해당 변수를 사용하지 않겠다는 의사 표시\n",
        "for x in \"banana\":\n",
        "  print(x)\n"
      ],
      "execution_count": null,
      "outputs": [
        {
          "output_type": "stream",
          "text": [
            "b\n",
            "a\n",
            "n\n",
            "a\n",
            "n\n",
            "a\n"
          ],
          "name": "stdout"
        }
      ]
    },
    {
      "cell_type": "code",
      "metadata": {
        "colab": {
          "base_uri": "https://localhost:8080/"
        },
        "id": "U8ttq54abmQb",
        "outputId": "564b8816-c97a-4bb4-9d7e-9c4fdcc828c6"
      },
      "source": [
        "fruits = [\"apple\", \"banana\", \"cherry\"]\n",
        "for x in fruits:\n",
        "  print(x)\n",
        "  if x == \"banana\":\n",
        "    break\n"
      ],
      "execution_count": null,
      "outputs": [
        {
          "output_type": "stream",
          "text": [
            "apple\n",
            "banana\n"
          ],
          "name": "stdout"
        }
      ]
    },
    {
      "cell_type": "code",
      "metadata": {
        "colab": {
          "base_uri": "https://localhost:8080/"
        },
        "id": "jwS28fJabnXj",
        "outputId": "5657f779-24a8-4e00-a057-7384fb126308"
      },
      "source": [
        "for x in range(6):\n",
        "  print(x)\n"
      ],
      "execution_count": null,
      "outputs": [
        {
          "output_type": "stream",
          "text": [
            "0\n",
            "1\n",
            "2\n",
            "3\n",
            "4\n",
            "5\n"
          ],
          "name": "stdout"
        }
      ]
    },
    {
      "cell_type": "code",
      "metadata": {
        "id": "EwPILfbkbo5y",
        "colab": {
          "base_uri": "https://localhost:8080/"
        },
        "outputId": "5b2b1f8e-ac8a-449c-ba1c-096d74173465"
      },
      "source": [
        "fruits = [\"apple\", \"banana\", \"cherry\"]\n",
        "for x in fruits:\n",
        "  if x == \"banana\":\n",
        "    continue\n",
        "  print(x)\n"
      ],
      "execution_count": null,
      "outputs": [
        {
          "output_type": "stream",
          "text": [
            "apple\n",
            "cherry\n"
          ],
          "name": "stdout"
        }
      ]
    },
    {
      "cell_type": "code",
      "metadata": {
        "id": "lCr_Drg8bp34",
        "colab": {
          "base_uri": "https://localhost:8080/"
        },
        "outputId": "531e0a24-0358-483a-8e5b-68ac4af9da42"
      },
      "source": [
        "[n * 2 for n in range(1, 10+1) if n % 2 == 1]\n"
      ],
      "execution_count": null,
      "outputs": [
        {
          "output_type": "execute_result",
          "data": {
            "text/plain": [
              "[2, 6, 10, 14, 18]"
            ]
          },
          "metadata": {
            "tags": []
          },
          "execution_count": 42
        }
      ]
    },
    {
      "cell_type": "code",
      "metadata": {
        "id": "fKeEjVsjbrmm"
      },
      "source": [
        "a = []\n",
        "for n in range(1, 10+1):\n",
        "  if n % 2 == 1:\n",
        "    a.append(n * 2)\n"
      ],
      "execution_count": null,
      "outputs": []
    },
    {
      "cell_type": "code",
      "metadata": {
        "id": "2UkyhLTKbsis"
      },
      "source": [
        "original = {'key1':'value1'}\n",
        "a = {}\n",
        "for key, value in original.items():\n",
        "  a[key] = value\n"
      ],
      "execution_count": null,
      "outputs": []
    },
    {
      "cell_type": "code",
      "metadata": {
        "id": "fpNeXsyZbtpk"
      },
      "source": [
        "original = {'key1':'value1'}\n",
        "a = {key: value for key, value in original.items()}\n"
      ],
      "execution_count": null,
      "outputs": []
    },
    {
      "cell_type": "code",
      "metadata": {
        "id": "oO3PNUvTbufr"
      },
      "source": [],
      "execution_count": null,
      "outputs": []
    }
  ]
}